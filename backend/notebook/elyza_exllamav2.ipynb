{
 "cells": [
  {
   "cell_type": "code",
   "execution_count": 1,
   "metadata": {},
   "outputs": [],
   "source": [
    "from app.exllamav2_chat.model import ChatExllamaV2Model"
   ]
  },
  {
   "cell_type": "code",
   "execution_count": 2,
   "metadata": {},
   "outputs": [],
   "source": [
    "model_path = \"elyza/exl2/\"\n",
    "\n",
    "chat_model = ChatExllamaV2Model.from_model_dir(\n",
    "    model_path,\n",
    "    cache_max_seq_len=4096,\n",
    "    system_message_template=\"[INST] <<SYS>>\\n{}\\n<</SYS>>\\n\",\n",
    "    human_message_template=\"{}[/INST]\",\n",
    "    ai_message_template=\"{}\",\n",
    "    temperature=0.0001,\n",
    "    # max_new_tokens=1024,\n",
    "    max_new_tokens=128,\n",
    "    repetition_penalty=1.15,\n",
    "    low_memory=True,\n",
    "    cache_8bit=True,\n",
    ")"
   ]
  },
  {
   "cell_type": "code",
   "execution_count": 3,
   "metadata": {},
   "outputs": [],
   "source": [
    "from langchain.prompts import (\n",
    "    ChatPromptTemplate,\n",
    "    SystemMessagePromptTemplate,\n",
    "    AIMessagePromptTemplate,\n",
    "    HumanMessagePromptTemplate,\n",
    ")\n",
    "from langchain.schema import StrOutputParser\n",
    "from langchain.schema.runnable import RunnablePassthrough\n",
    "\n",
    "\n",
    "system_template = \"あなたは誠実で優秀な日本人のアシスタントです。\"\n",
    "\n",
    "prompt = ChatPromptTemplate.from_messages(\n",
    "    [\n",
    "        SystemMessagePromptTemplate.from_template(system_template),\n",
    "        HumanMessagePromptTemplate.from_template(\"{query}\"),\n",
    "        AIMessagePromptTemplate.from_template(\" \"),\n",
    "    ]\n",
    ")\n",
    "\n",
    "chain = {\"query\": RunnablePassthrough()} | prompt | chat_model | StrOutputParser()"
   ]
  },
  {
   "cell_type": "code",
   "execution_count": 4,
   "metadata": {},
   "outputs": [],
   "source": [
    "from typing import Any\n",
    "from langchain_core.callbacks.base import BaseCallbackHandler\n",
    "\n",
    "\n",
    "def handler_print(token: str):\n",
    "    print(token, sep=\"\", end=\"\")\n",
    "\n",
    "\n",
    "class StreamingCallbackHandlerSimple(BaseCallbackHandler):\n",
    "    def on_llm_new_token(self, token: str, **kwargs: Any) -> None:\n",
    "        handler_print(token)"
   ]
  },
  {
   "cell_type": "code",
   "execution_count": 5,
   "metadata": {},
   "outputs": [],
   "source": [
    "from langchain_core.runnables.config import RunnableConfig\n",
    "\n",
    "\n",
    "config = RunnableConfig(callbacks=[StreamingCallbackHandlerSimple()])"
   ]
  },
  {
   "cell_type": "code",
   "execution_count": 9,
   "metadata": {},
   "outputs": [
    {
     "name": "stdout",
     "output_type": "stream",
     "text": [
      "富士山の高さは3,776mで、富士山が立地し、南北朝方向に長く、東西にややせた形状を成り、平野部は少々見る。\n",
      "\n",
      "富士山は、三保山・大石田山と共に「富士山群」を成り、富士五湖の水源地を形作る。\n",
      "\n",
      "富士山は、古来よき神社の聖地と信じれらる。\n",
      "\n",
      "富士山は、登山者"
     ]
    }
   ],
   "source": [
    "query = \"富士山の高さは？正確に\"\n",
    "async for s in chain.astream(query):\n",
    "    print(s, end=\"\", flush=True)"
   ]
  },
  {
   "cell_type": "code",
   "execution_count": null,
   "metadata": {},
   "outputs": [],
   "source": []
  }
 ],
 "metadata": {
  "kernelspec": {
   "display_name": ".venv",
   "language": "python",
   "name": "python3"
  },
  "language_info": {
   "codemirror_mode": {
    "name": "ipython",
    "version": 3
   },
   "file_extension": ".py",
   "mimetype": "text/x-python",
   "name": "python",
   "nbconvert_exporter": "python",
   "pygments_lexer": "ipython3",
   "version": "3.10.12"
  }
 },
 "nbformat": 4,
 "nbformat_minor": 2
}
