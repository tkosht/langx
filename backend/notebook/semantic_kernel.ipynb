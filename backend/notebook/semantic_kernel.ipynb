{
 "cells": [
  {
   "cell_type": "code",
   "execution_count": 11,
   "metadata": {},
   "outputs": [
    {
     "name": "stdout",
     "output_type": "stream",
     "text": [
      "Error: Function `time.now` not found\n"
     ]
    }
   ],
   "source": [
    "import os\n",
    "\n",
    "import semantic_kernel as sk\n",
    "from semantic_kernel.core_skills.time_skill import TimeSkill\n",
    "from semantic_kernel.connectors.ai.open_ai import OpenAIChatCompletion\n",
    "\n",
    "# setup kernel\n",
    "kernel = sk.Kernel()\n",
    "api_key = os.environ.get(\"OPENAI_API_KEY\")\n",
    "org_id = os.environ.get(\"OPENAI_ORG_ID\")\n",
    "model_name: str = \"gpt-3.5-turbo\"\n",
    "\n",
    "kernel.add_chat_service(\n",
    "    \"gpt\", OpenAIChatCompletion(model_name, api_key, org_id)\n",
    ")\n",
    "\n",
    "kernel.import_skill(TimeSkill(), \"time_controller\")\n",
    "\n",
    "prompt = \"\"\"\n",
    "Today is: {{time_controller.now}}\n",
    "\n",
    "Answer to the following questions using JSON syntax, including the data used.\n",
    "Is it today formatted as yyyy/mm/dd hh:mm:ss (24 hours expression)\n",
    "Is it morning, afternoon, evening, or night (morning/afternoon/evening/night)?\n",
    "Is it weekend time (weekend/not weekend)?\n",
    "item names are 'datetime', 'day_phase', 'date_type'\n",
    "\"\"\"\n",
    "\n",
    "func = kernel.create_semantic_function(prompt, max_tokens=100)\n",
    "\n",
    "response = await func.invoke_async()\n",
    "print(response)"
   ]
  },
  {
   "cell_type": "code",
   "execution_count": null,
   "metadata": {},
   "outputs": [],
   "source": []
  }
 ],
 "metadata": {
  "kernelspec": {
   "display_name": "Python 3",
   "language": "python",
   "name": "python3"
  },
  "language_info": {
   "codemirror_mode": {
    "name": "ipython",
    "version": 3
   },
   "file_extension": ".py",
   "mimetype": "text/x-python",
   "name": "python",
   "nbconvert_exporter": "python",
   "pygments_lexer": "ipython3",
   "version": "3.10.6"
  },
  "orig_nbformat": 4
 },
 "nbformat": 4,
 "nbformat_minor": 2
}
