{
 "cells": [
  {
   "cell_type": "code",
   "execution_count": 2,
   "metadata": {},
   "outputs": [
    {
     "name": "stdout",
     "output_type": "stream",
     "text": [
      "url='https://camp-fire.jp/projects/view/740207#menu'\n",
      "url_robots='https://camp-fire.jp/robots.txt'\n"
     ]
    },
    {
     "data": {
      "text/plain": [
       "True"
      ]
     },
     "execution_count": 2,
     "metadata": {},
     "output_type": "execute_result"
    }
   ],
   "source": [
    "# NOTE: check if a URL is allowed to be scraped by a robot\n",
    "from urllib.robotparser import RobotFileParser\n",
    "from urllib.parse import urlparse\n",
    "\n",
    "# url = \"https://twitter.com/ai_database/status/1756147762822058066\"\n",
    "url = \"https://camp-fire.jp/projects\"\n",
    "url = \"https://camp-fire.jp/projects/view/736020?list=projects_popular\"\n",
    "url = \"https://camp-fire.jp/projects/view/740207#menu\"\n",
    "\n",
    "\n",
    "def can_fetch(url: str):\n",
    "    print(f\"{url=}\")\n",
    "    parsed = urlparse(url)\n",
    "\n",
    "    url_robots = f\"{parsed.scheme}://{parsed.netloc}/robots.txt\"\n",
    "    print(f\"{url_robots=}\")\n",
    "    user_agent = \"Mozilla/5.0 (X11; Linux x86_64) AppleWebKit/537.36 (KHTML, like Gecko) HeadlessChrome/121.0.6167.85 Safari/537.36\"\n",
    "    rbp = RobotFileParser(url=url_robots)\n",
    "    rbp.read()\n",
    "\n",
    "    return rbp.can_fetch(user_agent, url)\n",
    "\n",
    "\n",
    "can_fetch(url)"
   ]
  },
  {
   "cell_type": "code",
   "execution_count": 2,
   "metadata": {},
   "outputs": [],
   "source": [
    "import pandas as pd\n",
    "import psycopg2\n",
    "\n",
    "# NOTE: postgresql の campfire_db から レコードを取得する\n",
    "\n",
    "\n",
    "def get_records() -> pd.DataFrame:\n",
    "    conn = None\n",
    "    try:\n",
    "        # Connect to the PostgreSQL database\n",
    "        conn = psycopg2.connect(\n",
    "            host=\"postgresql\",\n",
    "            database=\"campfire_db\",\n",
    "            user=\"postgres\",\n",
    "            password=\"postgres\",\n",
    "        )\n",
    "\n",
    "        # Create a cursor object\n",
    "        cur = conn.cursor()\n",
    "\n",
    "        # Execute the SQL query to fetch records from the database\n",
    "        cur.execute(\"SELECT * FROM campfire_data\")\n",
    "\n",
    "        # Get the column names\n",
    "        column_names = [desc[0] for desc in cur.description]\n",
    "\n",
    "        # Fetch all the records\n",
    "        records = cur.fetchall()\n",
    "\n",
    "        return pd.DataFrame(records, columns=column_names)\n",
    "    except (Exception, psycopg2.Error) as error:\n",
    "        print(\"Error while fetching data from PostgreSQL\", error)\n",
    "        raise error\n",
    "    finally:\n",
    "        if conn:\n",
    "            cur.close()\n",
    "            conn.close()\n",
    "            # print(\"PostgreSQL connection is closed\")"
   ]
  },
  {
   "cell_type": "code",
   "execution_count": 3,
   "metadata": {},
   "outputs": [
    {
     "data": {
      "text/html": [
       "<div>\n",
       "<style scoped>\n",
       "    .dataframe tbody tr th:only-of-type {\n",
       "        vertical-align: middle;\n",
       "    }\n",
       "\n",
       "    .dataframe tbody tr th {\n",
       "        vertical-align: top;\n",
       "    }\n",
       "\n",
       "    .dataframe thead th {\n",
       "        text-align: right;\n",
       "    }\n",
       "</style>\n",
       "<table border=\"1\" class=\"dataframe\">\n",
       "  <thead>\n",
       "    <tr style=\"text-align: right;\">\n",
       "      <th></th>\n",
       "      <th>id</th>\n",
       "      <th>img_url</th>\n",
       "      <th>area</th>\n",
       "      <th>title</th>\n",
       "      <th>meter</th>\n",
       "      <th>category</th>\n",
       "      <th>owner</th>\n",
       "      <th>current_funding</th>\n",
       "      <th>supporters</th>\n",
       "      <th>remaining_days</th>\n",
       "      <th>created_at</th>\n",
       "      <th>updated_at</th>\n",
       "    </tr>\n",
       "  </thead>\n",
       "  <tbody>\n",
       "    <tr>\n",
       "      <th>0</th>\n",
       "      <td>1</td>\n",
       "      <td>https://static.camp-fire.jp/uploads/project_ve...</td>\n",
       "      <td>石川県</td>\n",
       "      <td>ドロドラぬいぐるみ化プロジェクト！</td>\n",
       "      <td>147</td>\n",
       "      <td>プロダクト</td>\n",
       "      <td>CAMPFIRE ...</td>\n",
       "      <td>1472479</td>\n",
       "      <td>104</td>\n",
       "      <td>32</td>\n",
       "      <td>2024-02-21 13:46:08.846912</td>\n",
       "      <td>2024-02-21 13:46:08.846912</td>\n",
       "    </tr>\n",
       "    <tr>\n",
       "      <th>1</th>\n",
       "      <td>2</td>\n",
       "      <td>https://static.camp-fire.jp/uploads/project_ve...</td>\n",
       "      <td>石川県</td>\n",
       "      <td>ドロドラぬいぐるみ化プロジェクト！</td>\n",
       "      <td>147</td>\n",
       "      <td>プロダクト</td>\n",
       "      <td>CAMPFIRE ...</td>\n",
       "      <td>1472479</td>\n",
       "      <td>104</td>\n",
       "      <td>32</td>\n",
       "      <td>2024-02-21 13:46:08.846912</td>\n",
       "      <td>2024-02-21 13:46:08.846912</td>\n",
       "    </tr>\n",
       "    <tr>\n",
       "      <th>2</th>\n",
       "      <td>3</td>\n",
       "      <td>https://static.camp-fire.jp/uploads/project_ve...</td>\n",
       "      <td>石川県</td>\n",
       "      <td>ドロドラぬいぐるみ化プロジェクト！</td>\n",
       "      <td>147</td>\n",
       "      <td>プロダクト</td>\n",
       "      <td>CAMPFIRE ...</td>\n",
       "      <td>1472479</td>\n",
       "      <td>104</td>\n",
       "      <td>32</td>\n",
       "      <td>2024-02-21 13:46:08.846912</td>\n",
       "      <td>2024-02-21 13:46:08.846912</td>\n",
       "    </tr>\n",
       "  </tbody>\n",
       "</table>\n",
       "</div>"
      ],
      "text/plain": [
       "   id                                            img_url area  \\\n",
       "0   1  https://static.camp-fire.jp/uploads/project_ve...  石川県   \n",
       "1   2  https://static.camp-fire.jp/uploads/project_ve...  石川県   \n",
       "2   3  https://static.camp-fire.jp/uploads/project_ve...  石川県   \n",
       "\n",
       "               title  meter category         owner  current_funding  \\\n",
       "0  ドロドラぬいぐるみ化プロジェクト！    147    プロダクト  CAMPFIRE ...          1472479   \n",
       "1  ドロドラぬいぐるみ化プロジェクト！    147    プロダクト  CAMPFIRE ...          1472479   \n",
       "2  ドロドラぬいぐるみ化プロジェクト！    147    プロダクト  CAMPFIRE ...          1472479   \n",
       "\n",
       "   supporters  remaining_days                 created_at  \\\n",
       "0         104              32 2024-02-21 13:46:08.846912   \n",
       "1         104              32 2024-02-21 13:46:08.846912   \n",
       "2         104              32 2024-02-21 13:46:08.846912   \n",
       "\n",
       "                  updated_at  \n",
       "0 2024-02-21 13:46:08.846912  \n",
       "1 2024-02-21 13:46:08.846912  \n",
       "2 2024-02-21 13:46:08.846912  "
      ]
     },
     "execution_count": 3,
     "metadata": {},
     "output_type": "execute_result"
    }
   ],
   "source": [
    "df_campfire = get_records()\n",
    "df_campfire.head(3)"
   ]
  },
  {
   "cell_type": "code",
   "execution_count": 4,
   "metadata": {},
   "outputs": [
    {
     "data": {
      "text/plain": [
       "(1000, 12)"
      ]
     },
     "execution_count": 4,
     "metadata": {},
     "output_type": "execute_result"
    }
   ],
   "source": [
    "df_campfire.shape"
   ]
  },
  {
   "cell_type": "code",
   "execution_count": 5,
   "metadata": {},
   "outputs": [],
   "source": [
    "# NOTE: 以下のカラムは数値情報なので注意する\n",
    "# - meter:  1009% -> 1009: int\n",
    "# - current_funding:  現在\\n30,270,000円 -> 30270000: int\n",
    "# - supporters:  支援者\\n450人 -> 450: int\n",
    "# - remaining_days:  残り\\n7日 -> 7: int"
   ]
  },
  {
   "cell_type": "code",
   "execution_count": 6,
   "metadata": {},
   "outputs": [
    {
     "name": "stdout",
     "output_type": "stream",
     "text": [
      "(0, id                                                                 1\n",
      "img_url            https://static.camp-fire.jp/uploads/project_ve...\n",
      "area                                                             石川県\n",
      "title                                              ドロドラぬいぐるみ化プロジェクト！\n",
      "meter                                                            147\n",
      "category                                                       プロダクト\n",
      "owner                                                   CAMPFIRE ...\n",
      "current_funding                                              1472479\n",
      "supporters                                                       104\n",
      "remaining_days                                                    32\n",
      "created_at                                2024-02-21 13:46:08.846912\n",
      "updated_at                                2024-02-21 13:46:08.846912\n",
      "Name: 0, dtype: object)\n"
     ]
    }
   ],
   "source": [
    "# Print the records of `df_campfire`\n",
    "for row in df_campfire.iterrows():\n",
    "    print(row)\n",
    "    break"
   ]
  },
  {
   "cell_type": "code",
   "execution_count": 7,
   "metadata": {},
   "outputs": [
    {
     "data": {
      "text/plain": [
       "True"
      ]
     },
     "execution_count": 7,
     "metadata": {},
     "output_type": "execute_result"
    }
   ],
   "source": [
    "from dotenv import load_dotenv\n",
    "\n",
    "\n",
    "load_dotenv(\"../../.env\")"
   ]
  },
  {
   "cell_type": "markdown",
   "metadata": {},
   "source": [
    "# kanaries api key\n",
    "\n",
    "- cf. https://github.com/Kanaries/pygwalker/wiki/How-to-set-your-kanaries-token-in-pygwalker%3F\n"
   ]
  },
  {
   "cell_type": "code",
   "execution_count": 8,
   "metadata": {},
   "outputs": [],
   "source": [
    "import pygwalker as pyg"
   ]
  },
  {
   "cell_type": "code",
   "execution_count": 9,
   "metadata": {},
   "outputs": [
    {
     "data": {
      "application/vnd.jupyter.widget-view+json": {
       "model_id": "f7ea4416e50f4fdca02317223420d84a",
       "version_major": 2,
       "version_minor": 0
      },
      "text/plain": [
       "Box(children=(HTML(value='<div id=\"ifr-pyg-000611e5632f7c7eZE9yUqb7Gud2PoV4\" style=\"height: auto\">\\n    <head>…"
      ]
     },
     "metadata": {},
     "output_type": "display_data"
    },
    {
     "data": {
      "text/html": [],
      "text/plain": [
       "<IPython.core.display.HTML object>"
      ]
     },
     "metadata": {},
     "output_type": "display_data"
    },
    {
     "data": {
      "text/plain": [
       "<pygwalker.api.pygwalker.PygWalker at 0x7f7ecf94ff40>"
      ]
     },
     "execution_count": 9,
     "metadata": {},
     "output_type": "execute_result"
    }
   ],
   "source": [
    "pyg.walk(df_campfire)"
   ]
  },
  {
   "cell_type": "code",
   "execution_count": null,
   "metadata": {},
   "outputs": [],
   "source": []
  },
  {
   "cell_type": "code",
   "execution_count": null,
   "metadata": {},
   "outputs": [],
   "source": []
  },
  {
   "cell_type": "code",
   "execution_count": null,
   "metadata": {},
   "outputs": [],
   "source": []
  }
 ],
 "metadata": {
  "kernelspec": {
   "display_name": ".venv",
   "language": "python",
   "name": "python3"
  },
  "language_info": {
   "codemirror_mode": {
    "name": "ipython",
    "version": 3
   },
   "file_extension": ".py",
   "mimetype": "text/x-python",
   "name": "python",
   "nbconvert_exporter": "python",
   "pygments_lexer": "ipython3",
   "version": "3.10.12"
  }
 },
 "nbformat": 4,
 "nbformat_minor": 2
}
