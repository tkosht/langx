{
 "cells": [
  {
   "cell_type": "code",
   "execution_count": 1,
   "metadata": {},
   "outputs": [],
   "source": [
    "%%bash\n",
    "cat << __JSON__ > zero_infer.json\n",
    "{\n",
    "    \"fp16\": {\n",
    "        \"enabled\": \"auto\",\n",
    "        \"loss_scale\": 0,\n",
    "        \"loss_scale_window\": 1000,\n",
    "        \"initial_scale_power\": 16,\n",
    "        \"hysteresis\": 2,\n",
    "        \"min_loss_scale\": 1\n",
    "    },\n",
    "    \"zero_optimization\": {\n",
    "        \"stage\": 3,\n",
    "        \"offload_optimizer\": {\n",
    "            \"device\": \"cpu\",\n",
    "            \"pin_memory\": true\n",
    "        },\n",
    "        \"offload_param\": {\n",
    "            \"device\": \"cpu\",\n",
    "            \"pin_memory\": true\n",
    "        },\n",
    "        \"overlap_comm\": true,\n",
    "        \"contiguous_gradients\": true,\n",
    "        \"sub_group_size\": 1e9,\n",
    "        \"reduce_bucket_size\": \"auto\",\n",
    "        \"stage3_prefetch_bucket_size\": \"auto\",\n",
    "        \"stage3_param_persistence_threshold\": \"auto\",\n",
    "        \"stage3_max_live_parameters\": 1e9,\n",
    "        \"stage3_max_reuse_distance\": 1e9,\n",
    "        \"stage3_gather_16bit_weights_on_model_save\": true\n",
    "    },\n",
    "    \"steps_per_print\": 2000,\n",
    "    \"train_batch_size\": \"auto\",\n",
    "    \"train_micro_batch_size_per_gpu\": \"auto\",\n",
    "    \"wall_clock_breakdown\": false\n",
    "}\n",
    "__JSON__"
   ]
  },
  {
   "cell_type": "code",
   "execution_count": 2,
   "metadata": {},
   "outputs": [
    {
     "name": "stdout",
     "output_type": "stream",
     "text": [
      "zero_infer.json\n"
     ]
    }
   ],
   "source": [
    "%%bash\n",
    "ls *.json"
   ]
  },
  {
   "cell_type": "code",
   "execution_count": 3,
   "metadata": {},
   "outputs": [
    {
     "name": "stdout",
     "output_type": "stream",
     "text": [
      "     1\t{\n",
      "     2\t    \"fp16\": {\n",
      "     3\t        \"enabled\": \"auto\",\n",
      "     4\t        \"loss_scale\": 0,\n",
      "     5\t        \"loss_scale_window\": 1000,\n",
      "     6\t        \"initial_scale_power\": 16,\n",
      "     7\t        \"hysteresis\": 2,\n",
      "     8\t        \"min_loss_scale\": 1\n",
      "     9\t    },\n",
      "    10\t    \"zero_optimization\": {\n",
      "    11\t        \"stage\": 3,\n",
      "    12\t        \"offload_optimizer\": {\n",
      "    13\t            \"device\": \"cpu\",\n",
      "    14\t            \"pin_memory\": true\n",
      "    15\t        },\n",
      "    16\t        \"offload_param\": {\n",
      "    17\t            \"device\": \"cpu\",\n",
      "    18\t            \"pin_memory\": true\n",
      "    19\t        },\n",
      "    20\t        \"overlap_comm\": true,\n",
      "    21\t        \"contiguous_gradients\": true,\n",
      "    22\t        \"sub_group_size\": 1e9,\n",
      "    23\t        \"reduce_bucket_size\": \"auto\",\n",
      "    24\t        \"stage3_prefetch_bucket_size\": \"auto\",\n",
      "    25\t        \"stage3_param_persistence_threshold\": \"auto\",\n",
      "    26\t        \"stage3_max_live_parameters\": 1e9,\n",
      "    27\t        \"stage3_max_reuse_distance\": 1e9,\n",
      "    28\t        \"stage3_gather_16bit_weights_on_model_save\": true\n",
      "    29\t    },\n",
      "    30\t    \"steps_per_print\": 2000,\n",
      "    31\t    \"train_batch_size\": \"auto\",\n",
      "    32\t    \"train_micro_batch_size_per_gpu\": \"auto\",\n",
      "    33\t    \"wall_clock_breakdown\": false\n",
      "    34\t}\n"
     ]
    }
   ],
   "source": [
    "%%bash\n",
    "cat -n zero_infer.json"
   ]
  },
  {
   "cell_type": "code",
   "execution_count": 4,
   "metadata": {},
   "outputs": [
    {
     "data": {
      "text/plain": [
       "True"
      ]
     },
     "execution_count": 4,
     "metadata": {},
     "output_type": "execute_result"
    }
   ],
   "source": [
    "import torch\n",
    "\n",
    "\n",
    "torch.cuda.is_available()"
   ]
  },
  {
   "cell_type": "code",
   "execution_count": 11,
   "metadata": {},
   "outputs": [],
   "source": [
    "import torch\n",
    "import deepspeed\n",
    "from transformers.deepspeed import HfDeepSpeedConfig\n",
    "from transformers import AutoModelForCausalLM, AutoTokenizer, AutoConfig\n",
    "import json\n",
    "import os\n",
    "\n",
    "\n",
    "# model_name = \"elyza/ELYZA-japanese-Llama-2-7b-instruct\"\n",
    "model_name = \"elyza/ELYZA-japanese-Llama-2-7b-fast-instruct\"\n",
    "\n",
    "\n",
    "# multi-GPU関連の設定\n",
    "os.environ[\n",
    "    \"TOKENIZERS_PARALLELISM\"\n",
    "] = \"false\"  # To avoid warnings about parallelism in tokenizers\n",
    "local_rank = int(os.getenv(\"LOCAL_RANK\", 0))\n",
    "world_size = int(os.getenv(\"WORLD_SIZE\", 1))\n",
    "\n",
    "torch.cuda.set_device(local_rank)\n",
    "deepspeed.init_distributed()\n",
    "\n",
    "# ベースとなるZeRO3 configの読み込み\n",
    "ds_config_file = \"zero_infer.json\"\n",
    "with open(ds_config_file) as f:\n",
    "    ds_config = json.load(f)\n",
    "\n",
    "# 推論用に修正\n",
    "model_config = AutoConfig.from_pretrained(model_name)\n",
    "hidden_size = model_config.hidden_size\n",
    "\n",
    "ds_config[\"train_batch_size\"] = 1 * world_size\n",
    "ds_config[\"train_micro_batch_size_per_gpu\"] = 1\n",
    "ds_config[\"reduce_bucket_size\"] = hidden_size * hidden_size\n",
    "ds_config[\"stage3_prefetch_bucket_size\"] = 0.9 * hidden_size * hidden_size\n",
    "ds_config[\"stage3_param_persistence_threshold\"] = 10 * hidden_size\n",
    "\n",
    "\n",
    "dschf = HfDeepSpeedConfig(ds_config)  # zero3を使用するために必要(モデルロード前に実行する必要がある)"
   ]
  },
  {
   "cell_type": "code",
   "execution_count": 12,
   "metadata": {},
   "outputs": [
    {
     "name": "stdout",
     "output_type": "stream",
     "text": [
      "[2024-01-03 20:27:56,512] [INFO] [partition_parameters.py:347:__exit__] finished initializing model - num_params = 582, num_elems = 13.69B\n"
     ]
    },
    {
     "data": {
      "application/vnd.jupyter.widget-view+json": {
       "model_id": "44cfc144104647ac85ae6c8f8679885c",
       "version_major": 2,
       "version_minor": 0
      },
      "text/plain": [
       "Loading checkpoint shards:   0%|          | 0/2 [00:00<?, ?it/s]"
      ]
     },
     "metadata": {},
     "output_type": "display_data"
    }
   ],
   "source": [
    "# load LLM\n",
    "model = AutoModelForCausalLM.from_pretrained(model_name)\n",
    "tokenizer = AutoTokenizer.from_pretrained(model_name)"
   ]
  },
  {
   "cell_type": "code",
   "execution_count": 7,
   "metadata": {},
   "outputs": [
    {
     "name": "stdout",
     "output_type": "stream",
     "text": [
      "[2024-01-03 19:08:31,074] [INFO] [logging.py:96:log_dist] [Rank 0] DeepSpeed info: version=0.10.3, git-hash=unknown, git-branch=unknown\n",
      "[2024-01-03 19:08:31,094] [INFO] [logging.py:96:log_dist] [Rank 0] DeepSpeed Flops Profiler Enabled: False\n",
      "[2024-01-03 19:08:31,097] [INFO] [logging.py:96:log_dist] [Rank 0] Creating ZeRO Offload\n",
      "[2024-01-03 19:08:31,184] [INFO] [utils.py:803:see_memory_usage] DeepSpeedZeRoOffload initialize [begin]\n",
      "[2024-01-03 19:08:31,185] [INFO] [utils.py:804:see_memory_usage] MA 0.06 GB         Max_MA 1.16 GB         CA 1.44 GB         Max_CA 1 GB \n",
      "[2024-01-03 19:08:31,186] [INFO] [utils.py:811:see_memory_usage] CPU Virtual Memory:  used = 23.45 GB, percent = 37.4%\n",
      "Parameter Offload: Total persistent parameters: 266240 in 65 params\n",
      "[2024-01-03 19:08:31,286] [INFO] [utils.py:803:see_memory_usage] DeepSpeedZeRoOffload initialize [end]\n",
      "[2024-01-03 19:08:31,287] [INFO] [utils.py:804:see_memory_usage] MA 0.06 GB         Max_MA 0.06 GB         CA 1.44 GB         Max_CA 1 GB \n",
      "[2024-01-03 19:08:31,288] [INFO] [utils.py:811:see_memory_usage] CPU Virtual Memory:  used = 23.45 GB, percent = 37.4%\n",
      "[2024-01-03 19:08:31,289] [INFO] [config.py:967:print] DeepSpeedEngine configuration:\n",
      "[2024-01-03 19:08:31,290] [INFO] [config.py:971:print]   activation_checkpointing_config  {\n",
      "    \"partition_activations\": false, \n",
      "    \"contiguous_memory_optimization\": false, \n",
      "    \"cpu_checkpointing\": false, \n",
      "    \"number_checkpoints\": null, \n",
      "    \"synchronize_checkpoint_boundary\": false, \n",
      "    \"profile\": false\n",
      "}\n",
      "[2024-01-03 19:08:31,291] [INFO] [config.py:971:print]   aio_config ................... {'block_size': 1048576, 'queue_depth': 8, 'thread_count': 1, 'single_submit': False, 'overlap_events': True}\n",
      "[2024-01-03 19:08:31,291] [INFO] [config.py:971:print]   amp_enabled .................. False\n",
      "[2024-01-03 19:08:31,291] [INFO] [config.py:971:print]   amp_params ................... False\n",
      "[2024-01-03 19:08:31,292] [INFO] [config.py:971:print]   autotuning_config ............ {\n",
      "    \"enabled\": false, \n",
      "    \"start_step\": null, \n",
      "    \"end_step\": null, \n",
      "    \"metric_path\": null, \n",
      "    \"arg_mappings\": null, \n",
      "    \"metric\": \"throughput\", \n",
      "    \"model_info\": null, \n",
      "    \"results_dir\": \"autotuning_results\", \n",
      "    \"exps_dir\": \"autotuning_exps\", \n",
      "    \"overwrite\": true, \n",
      "    \"fast\": true, \n",
      "    \"start_profile_step\": 3, \n",
      "    \"end_profile_step\": 5, \n",
      "    \"tuner_type\": \"gridsearch\", \n",
      "    \"tuner_early_stopping\": 5, \n",
      "    \"tuner_num_trials\": 50, \n",
      "    \"model_info_path\": null, \n",
      "    \"mp_size\": 1, \n",
      "    \"max_train_batch_size\": null, \n",
      "    \"min_train_batch_size\": 1, \n",
      "    \"max_train_micro_batch_size_per_gpu\": 1.024000e+03, \n",
      "    \"min_train_micro_batch_size_per_gpu\": 1, \n",
      "    \"num_tuning_micro_batch_sizes\": 3\n",
      "}\n",
      "[2024-01-03 19:08:31,292] [INFO] [config.py:971:print]   bfloat16_enabled ............. False\n",
      "[2024-01-03 19:08:31,293] [INFO] [config.py:971:print]   checkpoint_parallel_write_pipeline  False\n",
      "[2024-01-03 19:08:31,293] [INFO] [config.py:971:print]   checkpoint_tag_validation_enabled  True\n",
      "[2024-01-03 19:08:31,294] [INFO] [config.py:971:print]   checkpoint_tag_validation_fail  False\n",
      "[2024-01-03 19:08:31,294] [INFO] [config.py:971:print]   comms_config ................. <deepspeed.comm.config.DeepSpeedCommsConfig object at 0x7f386950a650>\n",
      "[2024-01-03 19:08:31,294] [INFO] [config.py:971:print]   communication_data_type ...... None\n",
      "[2024-01-03 19:08:31,295] [INFO] [config.py:971:print]   compression_config ........... {'weight_quantization': {'shared_parameters': {'enabled': False, 'quantizer_kernel': False, 'schedule_offset': 0, 'quantize_groups': 1, 'quantize_verbose': False, 'quantization_type': 'symmetric', 'quantize_weight_in_forward': False, 'rounding': 'nearest', 'fp16_mixed_quantize': False, 'quantize_change_ratio': 0.001}, 'different_groups': {}}, 'activation_quantization': {'shared_parameters': {'enabled': False, 'quantization_type': 'symmetric', 'range_calibration': 'dynamic', 'schedule_offset': 1000}, 'different_groups': {}}, 'sparse_pruning': {'shared_parameters': {'enabled': False, 'method': 'l1', 'schedule_offset': 1000}, 'different_groups': {}}, 'row_pruning': {'shared_parameters': {'enabled': False, 'method': 'l1', 'schedule_offset': 1000}, 'different_groups': {}}, 'head_pruning': {'shared_parameters': {'enabled': False, 'method': 'topk', 'schedule_offset': 1000}, 'different_groups': {}}, 'channel_pruning': {'shared_parameters': {'enabled': False, 'method': 'l1', 'schedule_offset': 1000}, 'different_groups': {}}, 'layer_reduction': {'enabled': False}}\n",
      "[2024-01-03 19:08:31,295] [INFO] [config.py:971:print]   curriculum_enabled_legacy .... False\n",
      "[2024-01-03 19:08:31,296] [INFO] [config.py:971:print]   curriculum_params_legacy ..... False\n",
      "[2024-01-03 19:08:31,296] [INFO] [config.py:971:print]   data_efficiency_config ....... {'enabled': False, 'seed': 1234, 'data_sampling': {'enabled': False, 'num_epochs': 1000, 'num_workers': 0, 'curriculum_learning': {'enabled': False}}, 'data_routing': {'enabled': False, 'random_ltd': {'enabled': False, 'layer_token_lr_schedule': {'enabled': False}}}}\n",
      "[2024-01-03 19:08:31,298] [INFO] [config.py:971:print]   data_efficiency_enabled ...... False\n",
      "[2024-01-03 19:08:31,299] [INFO] [config.py:971:print]   dataloader_drop_last ......... False\n",
      "[2024-01-03 19:08:31,299] [INFO] [config.py:971:print]   disable_allgather ............ False\n",
      "[2024-01-03 19:08:31,299] [INFO] [config.py:971:print]   dump_state ................... False\n",
      "[2024-01-03 19:08:31,300] [INFO] [config.py:971:print]   dynamic_loss_scale_args ...... {'init_scale': 65536, 'scale_window': 1000, 'delayed_shift': 2, 'consecutive_hysteresis': False, 'min_scale': 1}\n",
      "[2024-01-03 19:08:31,300] [INFO] [config.py:971:print]   eigenvalue_enabled ........... False\n",
      "[2024-01-03 19:08:31,300] [INFO] [config.py:971:print]   eigenvalue_gas_boundary_resolution  1\n",
      "[2024-01-03 19:08:31,301] [INFO] [config.py:971:print]   eigenvalue_layer_name ........ bert.encoder.layer\n",
      "[2024-01-03 19:08:31,301] [INFO] [config.py:971:print]   eigenvalue_layer_num ......... 0\n",
      "[2024-01-03 19:08:31,301] [INFO] [config.py:971:print]   eigenvalue_max_iter .......... 100\n",
      "[2024-01-03 19:08:31,302] [INFO] [config.py:971:print]   eigenvalue_stability ......... 1e-06\n",
      "[2024-01-03 19:08:31,302] [INFO] [config.py:971:print]   eigenvalue_tol ............... 0.01\n",
      "[2024-01-03 19:08:31,302] [INFO] [config.py:971:print]   eigenvalue_verbose ........... False\n",
      "[2024-01-03 19:08:31,303] [INFO] [config.py:971:print]   elasticity_enabled ........... False\n",
      "[2024-01-03 19:08:31,303] [INFO] [config.py:971:print]   flops_profiler_config ........ {\n",
      "    \"enabled\": false, \n",
      "    \"recompute_fwd_factor\": 0.0, \n",
      "    \"profile_step\": 1, \n",
      "    \"module_depth\": -1, \n",
      "    \"top_modules\": 1, \n",
      "    \"detailed\": true, \n",
      "    \"output_file\": null\n",
      "}\n",
      "[2024-01-03 19:08:31,303] [INFO] [config.py:971:print]   fp16_auto_cast ............... False\n",
      "[2024-01-03 19:08:31,304] [INFO] [config.py:971:print]   fp16_enabled ................. auto\n",
      "[2024-01-03 19:08:31,304] [INFO] [config.py:971:print]   fp16_master_weights_and_gradients  False\n",
      "[2024-01-03 19:08:31,304] [INFO] [config.py:971:print]   global_rank .................. 0\n",
      "[2024-01-03 19:08:31,304] [INFO] [config.py:971:print]   grad_accum_dtype ............. None\n",
      "[2024-01-03 19:08:31,305] [INFO] [config.py:971:print]   gradient_accumulation_steps .. 1\n",
      "[2024-01-03 19:08:31,305] [INFO] [config.py:971:print]   gradient_clipping ............ 0.0\n",
      "[2024-01-03 19:08:31,306] [INFO] [config.py:971:print]   gradient_predivide_factor .... 1.0\n",
      "[2024-01-03 19:08:31,306] [INFO] [config.py:971:print]   hybrid_engine ................ enabled=False max_out_tokens=512 inference_tp_size=1 release_inference_cache=False pin_parameters=True tp_gather_partition_size=8\n",
      "[2024-01-03 19:08:31,306] [INFO] [config.py:971:print]   initial_dynamic_scale ........ 65536\n",
      "[2024-01-03 19:08:31,308] [INFO] [config.py:971:print]   load_universal_checkpoint .... False\n",
      "[2024-01-03 19:08:31,309] [INFO] [config.py:971:print]   loss_scale ................... 0\n",
      "[2024-01-03 19:08:31,309] [INFO] [config.py:971:print]   memory_breakdown ............. False\n",
      "[2024-01-03 19:08:31,309] [INFO] [config.py:971:print]   mics_hierarchial_params_gather  False\n",
      "[2024-01-03 19:08:31,309] [INFO] [config.py:971:print]   mics_shard_size .............. -1\n",
      "[2024-01-03 19:08:31,310] [INFO] [config.py:971:print]   monitor_config ............... tensorboard=TensorBoardConfig(enabled=False, output_path='', job_name='DeepSpeedJobName') wandb=WandbConfig(enabled=False, group=None, team=None, project='deepspeed') csv_monitor=CSVConfig(enabled=False, output_path='', job_name='DeepSpeedJobName') enabled=False\n",
      "[2024-01-03 19:08:31,311] [INFO] [config.py:971:print]   nebula_config ................ {\n",
      "    \"enabled\": false, \n",
      "    \"persistent_storage_path\": null, \n",
      "    \"persistent_time_interval\": 100, \n",
      "    \"num_of_version_in_retention\": 2, \n",
      "    \"enable_nebula_load\": true, \n",
      "    \"load_path\": null\n",
      "}\n",
      "[2024-01-03 19:08:31,311] [INFO] [config.py:971:print]   optimizer_legacy_fusion ...... False\n",
      "[2024-01-03 19:08:31,312] [INFO] [config.py:971:print]   optimizer_name ............... None\n",
      "[2024-01-03 19:08:31,312] [INFO] [config.py:971:print]   optimizer_params ............. None\n",
      "[2024-01-03 19:08:31,312] [INFO] [config.py:971:print]   pipeline ..................... {'stages': 'auto', 'partition': 'best', 'seed_layers': False, 'activation_checkpoint_interval': 0}\n",
      "[2024-01-03 19:08:31,313] [INFO] [config.py:971:print]   pld_enabled .................. False\n",
      "[2024-01-03 19:08:31,313] [INFO] [config.py:971:print]   pld_params ................... False\n",
      "[2024-01-03 19:08:31,314] [INFO] [config.py:971:print]   prescale_gradients ........... False\n",
      "[2024-01-03 19:08:31,314] [INFO] [config.py:971:print]   scheduler_name ............... None\n",
      "[2024-01-03 19:08:31,315] [INFO] [config.py:971:print]   scheduler_params ............. None\n",
      "[2024-01-03 19:08:31,315] [INFO] [config.py:971:print]   sparse_attention ............. None\n",
      "[2024-01-03 19:08:31,315] [INFO] [config.py:971:print]   sparse_gradients_enabled ..... False\n",
      "[2024-01-03 19:08:31,316] [INFO] [config.py:971:print]   steps_per_print .............. 2000\n",
      "[2024-01-03 19:08:31,316] [INFO] [config.py:971:print]   train_batch_size ............. 1\n",
      "[2024-01-03 19:08:31,317] [INFO] [config.py:971:print]   train_micro_batch_size_per_gpu  1\n",
      "[2024-01-03 19:08:31,317] [INFO] [config.py:971:print]   use_node_local_storage ....... False\n",
      "[2024-01-03 19:08:31,317] [INFO] [config.py:971:print]   wall_clock_breakdown ......... False\n",
      "[2024-01-03 19:08:31,318] [INFO] [config.py:971:print]   weight_quantization_config ... None\n",
      "[2024-01-03 19:08:31,318] [INFO] [config.py:971:print]   world_size ................... 1\n",
      "[2024-01-03 19:08:31,319] [INFO] [config.py:971:print]   zero_allow_untested_optimizer  False\n",
      "[2024-01-03 19:08:31,319] [INFO] [config.py:971:print]   zero_config .................. stage=3 contiguous_gradients=True reduce_scatter=True reduce_bucket_size=500,000,000 allgather_partitions=True allgather_bucket_size=500,000,000 overlap_comm=True load_from_fp32_weights=True elastic_checkpoint=False offload_param=DeepSpeedZeroOffloadParamConfig(device='cpu', nvme_path=None, buffer_count=5, buffer_size=100,000,000, max_in_cpu=1,000,000,000, pin_memory=True) offload_optimizer=DeepSpeedZeroOffloadOptimizerConfig(device='cpu', nvme_path=None, buffer_count=4, pin_memory=True, pipeline=False, pipeline_read=False, pipeline_write=False, fast_init=False) sub_group_size=1000000000 cpu_offload_param=None cpu_offload_use_pin_memory=None cpu_offload=None prefetch_bucket_size=50,000,000 param_persistence_threshold=100,000 model_persistence_threshold=sys.maxsize max_live_parameters=1000000000 max_reuse_distance=1000000000 gather_16bit_weights_on_model_save=True stage3_gather_fp16_weights_on_model_save=False ignore_unused_parameters=True legacy_stage1=False round_robin_gradients=False zero_hpz_partition_size=1 zero_quantized_weights=False zero_quantized_nontrainable_weights=False zero_quantized_gradients=False mics_shard_size=-1 mics_hierarchical_params_gather=False memory_efficient_linear=True pipeline_loading_checkpoint=False override_module_apply=True\n",
      "[2024-01-03 19:08:31,319] [INFO] [config.py:971:print]   zero_enabled ................. True\n",
      "[2024-01-03 19:08:31,320] [INFO] [config.py:971:print]   zero_force_ds_cpu_optimizer .. True\n",
      "[2024-01-03 19:08:31,320] [INFO] [config.py:971:print]   zero_optimization_stage ...... 3\n",
      "[2024-01-03 19:08:31,321] [INFO] [config.py:957:print_user_config]   json = {\n",
      "    \"fp16\": {\n",
      "        \"enabled\": \"auto\", \n",
      "        \"loss_scale\": 0, \n",
      "        \"loss_scale_window\": 1000, \n",
      "        \"initial_scale_power\": 16, \n",
      "        \"hysteresis\": 2, \n",
      "        \"min_loss_scale\": 1\n",
      "    }, \n",
      "    \"zero_optimization\": {\n",
      "        \"stage\": 3, \n",
      "        \"offload_optimizer\": {\n",
      "            \"device\": \"cpu\", \n",
      "            \"pin_memory\": true\n",
      "        }, \n",
      "        \"offload_param\": {\n",
      "            \"device\": \"cpu\", \n",
      "            \"pin_memory\": true\n",
      "        }, \n",
      "        \"overlap_comm\": true, \n",
      "        \"contiguous_gradients\": true, \n",
      "        \"sub_group_size\": 1.000000e+09, \n",
      "        \"reduce_bucket_size\": \"auto\", \n",
      "        \"stage3_prefetch_bucket_size\": \"auto\", \n",
      "        \"stage3_param_persistence_threshold\": \"auto\", \n",
      "        \"stage3_max_live_parameters\": 1.000000e+09, \n",
      "        \"stage3_max_reuse_distance\": 1.000000e+09, \n",
      "        \"stage3_gather_16bit_weights_on_model_save\": true\n",
      "    }, \n",
      "    \"steps_per_print\": 2.000000e+03, \n",
      "    \"train_batch_size\": 1, \n",
      "    \"train_micro_batch_size_per_gpu\": 1, \n",
      "    \"wall_clock_breakdown\": false, \n",
      "    \"reduce_bucket_size\": 1.677722e+07, \n",
      "    \"stage3_prefetch_bucket_size\": 1.509949e+07, \n",
      "    \"stage3_param_persistence_threshold\": 4.096000e+04\n",
      "}\n"
     ]
    }
   ],
   "source": [
    "# setup deepspeed\n",
    "ds_engine = deepspeed.initialize(model=model, config_params=ds_config)[0]\n",
    "ds_model = ds_engine.module.eval()"
   ]
  },
  {
   "cell_type": "code",
   "execution_count": 8,
   "metadata": {},
   "outputs": [
    {
     "name": "stdout",
     "output_type": "stream",
     "text": [
      "[2024-01-03 19:08:39,150] [WARNING] [parameter_offload.py:86:_apply_to_tensors_only] A module has unknown inputs or outputs type (<class 'transformers.cache_utils.DynamicCache'>) and the tensors embedded in it cannot be detected. The ZeRO-3 hooks designed to trigger before or after backward pass of the module relies on knowing the input and output tensors and therefore may not get triggered properly.\n",
      "CPU times: user 7min 2s, sys: 1.57 s, total: 7min 3s\n",
      "Wall time: 7min 8s\n"
     ]
    },
    {
     "data": {
      "text/plain": [
       "'今日の天気は、晴れ。\\n最高気温は、22℃。\\n風は、北風。\\n今日は、1日、休日です。\\n月曜日なので、出勤の人が多いですが、休みの人も多いので、混雑は、少ないでしょう。\\n今日は、仕事が、終わったので、家事を済ませ、15時頃、外出しました。\\n16時頃、外出したので、まだ、日が、明るいです。\\n17時頃、外出したので、もう、暗くなっています。\\n18時頃、外出したので、もう、暗くて、怖いです。\\n19時頃、外出したので、もう、暗くて、怖いです。\\n20時頃、外出したので、もう、暗くて、怖いです。\\n21時頃、外出したので、もう、暗くて、怖いです。\\n'"
      ]
     },
     "execution_count": 8,
     "metadata": {},
     "output_type": "execute_result"
    }
   ],
   "source": [
    "from transformers import pipeline\n",
    "\n",
    "\n",
    "if torch.cuda.is_available():\n",
    "  model.to(\"cuda\")\n",
    "\n",
    "\n",
    "def gen(input_text=\"今日の天気は\"):\n",
    "    text_pipe = pipeline('text-generation', \n",
    "                         model=ds_model,\n",
    "                         tokenizer=tokenizer,\n",
    "                         device=\"cuda:0\",\n",
    "                         max_length=200,\n",
    "                             )\n",
    "    output = text_pipe(input_text)\n",
    "\n",
    "    return output[0]['generated_text']\n",
    "%time gen()\n"
   ]
  },
  {
   "cell_type": "code",
   "execution_count": null,
   "metadata": {},
   "outputs": [],
   "source": []
  },
  {
   "cell_type": "code",
   "execution_count": 9,
   "metadata": {},
   "outputs": [],
   "source": [
    "# model_name = \"elyza/ELYZA-japanese-Llama-2-7b-instruct\"\n",
    "# tokenizer = AutoTokenizer.from_pretrained(model_name)\n",
    "# model = AutoModelForCausalLM.from_pretrained(model_name, torch_dtype=\"auto\")\n",
    "#\n",
    "# if torch.cuda.is_available():\n",
    "#     model = model.to(\"cuda:1\")\n",
    "#\n",
    "# prompt = \"{bos_token}{b_inst} {system}{prompt} {e_inst} \".format(\n",
    "#     bos_token=tokenizer.bos_token,\n",
    "#     b_inst=B_INST,\n",
    "#     system=f\"{B_SYS}{DEFAULT_SYSTEM_PROMPT}{E_SYS}\",\n",
    "#     prompt=text,\n",
    "#     e_inst=E_INST,\n",
    "# )"
   ]
  },
  {
   "cell_type": "code",
   "execution_count": 10,
   "metadata": {},
   "outputs": [],
   "source": [
    "# with torch.no_grad():\n",
    "#     token_ids = tokenizer.encode(prompt, add_special_tokens=False, return_tensors=\"pt\")\n",
    "#\n",
    "#     output_ids = model.generate(\n",
    "#         token_ids.to(model.device),\n",
    "#         max_new_tokens=256,\n",
    "#         pad_token_id=tokenizer.pad_token_id,\n",
    "#         eos_token_id=tokenizer.eos_token_id,\n",
    "#     )\n",
    "# output = tokenizer.decode(output_ids.tolist()[0][token_ids.size(1) :], skip_special_tokens=True)\n",
    "# print(output)\n",
    "# \"\"\"\n",
    "# 承知しました。以下にクマが海辺に行ってアザラシと友達になり、最終的には家に帰るというプロットの短編小説を記述します。\n",
    "#\n",
    "# クマは山の中でゆっくりと眠っていた。\n",
    "# その眠りに落ちたクマは、夢の中で海辺を歩いていた。\n",
    "# そこにはアザラシがいた。\n",
    "# クマはアザラシに話しかける。\n",
    "#\n",
    "# 「おはよう」とクマが言うと、アザラシは驚いたように顔を上げた。\n",
    "# 「あ、こんにちは」アザラシは答えた。\n",
    "# クマはアザラシと友達になりたいと思う。\n",
    "#\n",
    "# 「私はクマと申します。」クマは...\n",
    "# \"\"\"\n",
    "#"
   ]
  },
  {
   "cell_type": "code",
   "execution_count": null,
   "metadata": {},
   "outputs": [],
   "source": []
  },
  {
   "cell_type": "code",
   "execution_count": null,
   "metadata": {},
   "outputs": [],
   "source": []
  },
  {
   "cell_type": "code",
   "execution_count": null,
   "metadata": {},
   "outputs": [],
   "source": []
  }
 ],
 "metadata": {
  "kernelspec": {
   "display_name": ".venv",
   "language": "python",
   "name": "python3"
  },
  "language_info": {
   "codemirror_mode": {
    "name": "ipython",
    "version": 3
   },
   "file_extension": ".py",
   "mimetype": "text/x-python",
   "name": "python",
   "nbconvert_exporter": "python",
   "pygments_lexer": "ipython3",
   "version": "3.10.12"
  },
  "orig_nbformat": 4
 },
 "nbformat": 4,
 "nbformat_minor": 2
}
