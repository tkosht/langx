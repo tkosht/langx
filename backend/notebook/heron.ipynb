{
 "cells": [
  {
   "cell_type": "code",
   "execution_count": null,
   "metadata": {},
   "outputs": [],
   "source": [
    "import requests\n",
    "from PIL import Image\n",
    "\n",
    "import torch\n",
    "from transformers import AutoProcessor\n",
    "from heron.models.git_llm.git_gpt_neox import GitGPTNeoXForCausalLM\n"
   ]
  },
  {
   "cell_type": "code",
   "execution_count": null,
   "metadata": {},
   "outputs": [],
   "source": [
    "device_id = 0\n",
    "\n",
    "# prepare a pretrained model\n",
    "model = GitGPTNeoXForCausalLM.from_pretrained(\n",
    "    'turing-motors/heron-chat-git-ELYZA-fast-7b-v0', torch_dtype=torch.float16\n",
    ")\n",
    "model.eval()\n",
    "model.to(f\"cuda:{device_id}\")\n"
   ]
  },
  {
   "cell_type": "code",
   "execution_count": null,
   "metadata": {},
   "outputs": [],
   "source": [
    "# prepare a processor\n",
    "processor = AutoProcessor.from_pretrained('turing-motors/heron-chat-git-ELYZA-fast-7b-v0')\n",
    "\n",
    "# prepare inputs\n",
    "url = \"https://www.barnorama.com/wp-content/uploads/2016/12/03-Confusing-Pictures.jpg\"\n",
    "image = Image.open(requests.get(url, stream=True).raw)\n"
   ]
  },
  {
   "cell_type": "code",
   "execution_count": null,
   "metadata": {},
   "outputs": [],
   "source": [
    "text = f\"##human: これは何の写真ですか？\\n##gpt: \"\n",
    "\n",
    "# do preprocessing\n",
    "inputs = processor(\n",
    "    text,\n",
    "    image,\n",
    "    return_tensors=\"pt\",\n",
    "    truncation=True,\n",
    ")\n",
    "inputs = {k: v.to(f\"cuda:{device_id}\") for k, v in inputs.items()}\n",
    "\n",
    "# set eos token\n",
    "eos_token_id_list = [\n",
    "    processor.tokenizer.pad_token_id,\n",
    "    processor.tokenizer.eos_token_id,\n",
    "]\n"
   ]
  },
  {
   "cell_type": "code",
   "execution_count": null,
   "metadata": {},
   "outputs": [],
   "source": [
    "# do inference\n",
    "with torch.no_grad():\n",
    "    out = model.generate(**inputs, max_length=256, do_sample=False, temperature=0., eos_token_id=eos_token_id_list)\n"
   ]
  },
  {
   "cell_type": "code",
   "execution_count": null,
   "metadata": {},
   "outputs": [],
   "source": [
    "# print result\n",
    "print(processor.tokenizer.batch_decode(out)[0])\n"
   ]
  },
  {
   "cell_type": "code",
   "execution_count": null,
   "metadata": {},
   "outputs": [],
   "source": []
  },
  {
   "cell_type": "code",
   "execution_count": null,
   "metadata": {},
   "outputs": [],
   "source": []
  },
  {
   "cell_type": "code",
   "execution_count": null,
   "metadata": {},
   "outputs": [],
   "source": []
  }
 ],
 "metadata": {
  "kernelspec": {
   "display_name": ".venv",
   "language": "python",
   "name": "python3"
  },
  "language_info": {
   "name": "python",
   "version": "3.10.12"
  },
  "orig_nbformat": 4
 },
 "nbformat": 4,
 "nbformat_minor": 2
}
