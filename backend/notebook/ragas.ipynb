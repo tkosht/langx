{
 "cells": [
  {
   "cell_type": "code",
   "execution_count": 1,
   "metadata": {},
   "outputs": [
    {
     "data": {
      "text/plain": [
       "True"
      ]
     },
     "execution_count": 1,
     "metadata": {},
     "output_type": "execute_result"
    }
   ],
   "source": [
    "from dotenv import load_dotenv\n",
    "\n",
    "\n",
    "load_dotenv(\"../../.env\")"
   ]
  },
  {
   "cell_type": "code",
   "execution_count": 3,
   "metadata": {},
   "outputs": [],
   "source": [
    "import os\n",
    "import openai\n",
    "\n",
    "openai.api_key = os.environ[\"OPENAI_API_KEY\"]"
   ]
  },
  {
   "cell_type": "code",
   "execution_count": null,
   "metadata": {},
   "outputs": [],
   "source": [
    "from datasets import Dataset\n",
    "from ragas import evaluate\n",
    "from ragas.metrics import faithfulness, answer_correctness\n",
    "\n",
    "\n",
    "data_samples = {\n",
    "    \"question\": [\"When was the first super bowl?\", \"Who won the most super bowls?\"],\n",
    "    \"answer\": [\n",
    "        \"The first superbowl was held on Jan 15, 1967\",\n",
    "        \"The most super bowls have been won by The New England Patriots\",\n",
    "    ],\n",
    "    \"contexts\": [\n",
    "        [\n",
    "            \"The First AFL–NFL World Championship Game was an American football game played on January 15, 1967, at the Los Angeles Memorial Coliseum in Los Angeles,\"\n",
    "        ],\n",
    "        [\"The Green Bay Packers...Green Bay, Wisconsin.\", \"The Packers compete...Football Conference\"],\n",
    "    ],\n",
    "    \"ground_truth\": [\n",
    "        \"The first superbowl was held on January 15, 1967\",\n",
    "        \"The New England Patriots have won the Super Bowl a record six times\",\n",
    "    ],\n",
    "}\n",
    "\n",
    "dataset = Dataset.from_dict(data_samples)"
   ]
  }
 ],
 "metadata": {
  "kernelspec": {
   "display_name": ".venv",
   "language": "python",
   "name": "python3"
  },
  "language_info": {
   "codemirror_mode": {
    "name": "ipython",
    "version": 3
   },
   "file_extension": ".py",
   "mimetype": "text/x-python",
   "name": "python",
   "nbconvert_exporter": "python",
   "pygments_lexer": "ipython3",
   "version": "3.10.12"
  }
 },
 "nbformat": 4,
 "nbformat_minor": 2
}
