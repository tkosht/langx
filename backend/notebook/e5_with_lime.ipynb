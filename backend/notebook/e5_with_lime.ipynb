{
 "cells": [
  {
   "cell_type": "code",
   "execution_count": null,
   "metadata": {},
   "outputs": [],
   "source": [
    "# 必要なライブラリをインポート\n",
    "import numpy as np\n",
    "from sklearn.pipeline import Pipeline\n",
    "from sklearn.linear_model import LogisticRegression, Ridge\n",
    "\n",
    "import torch\n",
    "import torch.nn.functional as F\n",
    "\n",
    "from torch import Tensor\n",
    "from transformers import AutoTokenizer, AutoModel\n",
    "\n",
    "from typing_extensions import Self\n",
    "\n",
    "# LIMEをインポート\n",
    "from lime import lime_text\n",
    "from lime.lime_text import LimeTextExplainer\n",
    "\n",
    "# e5 embeddings を初期化\n",
    "# d = e5.load(\"xl/bert-base-uncased-3-embeddings\")\n",
    "tokenizer = AutoTokenizer.from_pretrained(\"intfloat/multilingual-e5-large\")\n",
    "model = AutoModel.from_pretrained(\"intfloat/multilingual-e5-large\")\n",
    "\n",
    "# テキストデータをロード\n",
    "texts = [\n",
    "    \"This is a great movie.\",\n",
    "    \"The acting was terrible in this film.\",\n",
    "    \"I loved the soundtrack of this picture.\",\n",
    "    # ...他のテキストデータ\n",
    "]\n",
    "\n",
    "# ターゲット変数をロード (分類の場合はクラスラベル、回帰の場合は数値など)\n",
    "targets = [1, 0, 1, ...]\n",
    "\n",
    "# パイプラインを構築 (embeddingとモデル)\n",
    "pipe = Pipeline(\n",
    "    [\n",
    "        (\"embed\", d.embed),\n",
    "        (\"model\", LogisticRegression()),  # 分類の場合\n",
    "        # ('model', Ridge())  # 回帰の場合\n",
    "    ]\n",
    ")\n",
    "\n",
    "# モデルを学習\n",
    "pipe.fit(texts, targets)\n",
    "\n",
    "# LIMEのインスタンスを作成\n",
    "explainer = LimeTextExplainer(class_names=[\"Negative\", \"Positive\"])  # 分類の場合\n",
    "\n",
    "# テキストごとに解釈性を分析\n",
    "for text in texts[:5]:  # 先頭5件を例として使用\n",
    "    exp = explainer.explain_instance(text, pipe.predict_proba, num_features=6)\n",
    "    print(f\"Text: {text}\")\n",
    "    print(exp.as_list())\n",
    "    print(\"\\n\")"
   ]
  }
 ],
 "metadata": {
  "kernelspec": {
   "display_name": ".venv",
   "language": "python",
   "name": "python3"
  },
  "language_info": {
   "name": "python",
   "version": "3.10.12"
  }
 },
 "nbformat": 4,
 "nbformat_minor": 2
}
