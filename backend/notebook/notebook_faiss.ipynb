{
 "cells": [
  {
   "cell_type": "code",
   "execution_count": null,
   "metadata": {},
   "outputs": [],
   "source": [
    "from dotenv import load_dotenv\n",
    "from llama_index.llms.openai import OpenAI\n",
    "from langchain.embeddings import HuggingFaceEmbeddings\n",
    "from llama_index.core.settings import Settings\n",
    "from llama_index.core import (\n",
    "    load_index_from_storage,\n",
    "    StorageContext,\n",
    ")\n",
    "from llama_index.core.indices.vector_store import VectorStoreIndex\n",
    "from llama_index.embeddings.langchain import LangchainEmbedding\n",
    "from llama_index.vector_stores.faiss import FaissVectorStore"
   ]
  },
  {
   "cell_type": "code",
   "execution_count": null,
   "metadata": {},
   "outputs": [],
   "source": [
    "load_dotenv(\"../../.env\")"
   ]
  },
  {
   "cell_type": "code",
   "execution_count": null,
   "metadata": {},
   "outputs": [],
   "source": [
    "embed_model_name = \"intfloat/multilingual-e5-small\"\n",
    "embed_model = LangchainEmbedding(HuggingFaceEmbeddings(model_name=embed_model_name))\n",
    "Settings.embed_model = embed_model\n",
    "Settings.llm = OpenAI(model=\"gpt-3.5-turbo\", temperature=0.1)"
   ]
  },
  {
   "cell_type": "code",
   "execution_count": null,
   "metadata": {},
   "outputs": [],
   "source": [
    "# load index from disk\n",
    "vector_store = FaissVectorStore.from_persist_dir(\"../data/llama_faiss\")\n",
    "storage_context = StorageContext.from_defaults(vector_store=vector_store, persist_dir=\"../data/llama_faiss\")\n",
    "index: VectorStoreIndex = load_index_from_storage(storage_context=storage_context)"
   ]
  },
  {
   "cell_type": "code",
   "execution_count": null,
   "metadata": {},
   "outputs": [],
   "source": [
    "type(index)"
   ]
  },
  {
   "cell_type": "code",
   "execution_count": null,
   "metadata": {},
   "outputs": [],
   "source": [
    "query_engine = index.as_query_engine(similarity_top_k=5)\n",
    "# response = query_engine.query(\"DX白書の重要なポイントをMECEに教えてくれませんか？\")\n",
    "response = query_engine.query(\"DXにおける重要な課題をMECEに教えてくれませんか？\")"
   ]
  },
  {
   "cell_type": "code",
   "execution_count": null,
   "metadata": {},
   "outputs": [],
   "source": [
    "response"
   ]
  },
  {
   "cell_type": "code",
   "execution_count": null,
   "metadata": {},
   "outputs": [],
   "source": [
    "print(response.response)"
   ]
  },
  {
   "cell_type": "code",
   "execution_count": null,
   "metadata": {},
   "outputs": [],
   "source": [
    "len(response.source_nodes)"
   ]
  },
  {
   "cell_type": "code",
   "execution_count": null,
   "metadata": {},
   "outputs": [],
   "source": [
    "response.source_nodes[0].node.text"
   ]
  },
  {
   "cell_type": "code",
   "execution_count": null,
   "metadata": {},
   "outputs": [],
   "source": []
  },
  {
   "cell_type": "code",
   "execution_count": null,
   "metadata": {},
   "outputs": [],
   "source": [
    "for idx, sn in enumerate(response.source_nodes):\n",
    "    print(\"-\" * 80)\n",
    "    print(f\"[情報源{idx+1:02d}]\")\n",
    "    print(\"-\" * 10)\n",
    "    print(sn.node.text)\n",
    "    meta = sn.node.metadata\n",
    "    # print(f\"[{meta['file_path']}:{meta['file_name']}:{meta['page_label']}]\")\n",
    "    print(f\"[{meta['file']}:{meta['page']}]\")\n",
    "    # print(sn.metadata)"
   ]
  },
  {
   "cell_type": "markdown",
   "metadata": {},
   "source": [
    "# with LangChain"
   ]
  },
  {
   "cell_type": "code",
   "execution_count": null,
   "metadata": {},
   "outputs": [],
   "source": [
    "import langchain\n",
    "import langchain.agents\n",
    "from langchain_openai import ChatOpenAI\n",
    "from langchain.agents import Tool, initialize_agent, load_tools\n",
    "from langchain.chains.conversation.memory import ConversationBufferMemory"
   ]
  },
  {
   "cell_type": "code",
   "execution_count": null,
   "metadata": {},
   "outputs": [],
   "source": [
    "def create_llama_index_tool(similarity_top_k: int = 5):\n",
    "    return Tool(\n",
    "        name=\"DX白書検索\",\n",
    "        func=lambda q: str(index.as_query_engine(similarity_top_k=5).query(q)),\n",
    "        description=\"DXに関する情報を検索したり見つけるときに有効です。\",\n",
    "        # description=\"Useful for search and find the information in the DX白書\",\n",
    "        return_direct=False,\n",
    "    )"
   ]
  },
  {
   "cell_type": "code",
   "execution_count": null,
   "metadata": {},
   "outputs": [],
   "source": [
    "model_name = \"gpt-3.5-turbo\"\n",
    "llm = ChatOpenAI(temperature=0.1, model_name=model_name)\n",
    "\n",
    "tools = load_tools([\"google-search\", \"llm-math\", \"wikipedia\"], llm=llm)  # , \"terminal\"\n",
    "tools += [create_llama_index_tool(similarity_top_k=5)]"
   ]
  },
  {
   "cell_type": "code",
   "execution_count": null,
   "metadata": {},
   "outputs": [],
   "source": [
    "agent = initialize_agent(\n",
    "    tools,\n",
    "    # llm=OpenAI(temperature=0),\n",
    "    llm=llm,\n",
    "    agent=langchain.agents.AgentType.ZERO_SHOT_REACT_DESCRIPTION,\n",
    "    verbose=True,\n",
    ")"
   ]
  },
  {
   "cell_type": "code",
   "execution_count": null,
   "metadata": {},
   "outputs": [],
   "source": [
    "agent.run(input=\"DX白書の重要なポイントをMECEに教えてくれませんか？\")"
   ]
  },
  {
   "cell_type": "code",
   "execution_count": null,
   "metadata": {},
   "outputs": [],
   "source": []
  }
 ],
 "metadata": {
  "kernelspec": {
   "display_name": ".venv",
   "language": "python",
   "name": "python3"
  },
  "language_info": {
   "codemirror_mode": {
    "name": "ipython",
    "version": 3
   },
   "file_extension": ".py",
   "mimetype": "text/x-python",
   "name": "python",
   "nbconvert_exporter": "python",
   "pygments_lexer": "ipython3",
   "version": "3.10.12"
  }
 },
 "nbformat": 4,
 "nbformat_minor": 2
}
