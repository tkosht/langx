{
 "cells": [
  {
   "cell_type": "code",
   "execution_count": 1,
   "metadata": {},
   "outputs": [],
   "source": [
    "import numpy\n",
    "from sklearn.datasets import fetch_20newsgroups\n",
    "from sklearn.feature_extraction.text import CountVectorizer\n",
    "from sklearn.decomposition import LatentDirichletAllocation\n"
   ]
  },
  {
   "cell_type": "code",
   "execution_count": 2,
   "metadata": {},
   "outputs": [],
   "source": [
    "news20 = fetch_20newsgroups()"
   ]
  },
  {
   "cell_type": "code",
   "execution_count": 3,
   "metadata": {},
   "outputs": [],
   "source": [
    "X = news20.data[:1000]\n",
    "y = news20.target[:1000]"
   ]
  },
  {
   "cell_type": "code",
   "execution_count": 4,
   "metadata": {},
   "outputs": [
    {
     "data": {
      "text/plain": [
       "\"From: lerxst@wam.umd.edu (where's my thing)\\nSubject: WHAT car is this!?\\nNntp-Posting-Host: rac3.wam.\""
      ]
     },
     "execution_count": 4,
     "metadata": {},
     "output_type": "execute_result"
    }
   ],
   "source": [
    "X[0][:100]  # X.shape = (D, V)"
   ]
  },
  {
   "cell_type": "code",
   "execution_count": 5,
   "metadata": {},
   "outputs": [],
   "source": [
    "cv = CountVectorizer(min_df=0.04, stop_words=\"english\")\n",
    "X_bow = cv.fit_transform(X, y)\n"
   ]
  },
  {
   "cell_type": "code",
   "execution_count": 6,
   "metadata": {},
   "outputs": [
    {
     "name": "stderr",
     "output_type": "stream",
     "text": [
      "/usr/local/lib/python3.8/dist-packages/sklearn/utils/deprecation.py:87: FutureWarning: Function get_feature_names is deprecated; get_feature_names is deprecated in 1.0 and will be removed in 1.2. Please use get_feature_names_out instead.\n",
      "  warnings.warn(msg, category=FutureWarning)\n"
     ]
    },
    {
     "data": {
      "text/plain": [
       "array(['address', 'ago', 'agree', 'answer', 'anybody', 'apr', 'area',\n",
       "       'article', 'ask', 'asked'], dtype='<U12')"
      ]
     },
     "execution_count": 6,
     "metadata": {},
     "output_type": "execute_result"
    }
   ],
   "source": [
    "feature_names = numpy.array(cv.get_feature_names())\n",
    "feature_names[30:30+10]\n"
   ]
  },
  {
   "cell_type": "code",
   "execution_count": 7,
   "metadata": {},
   "outputs": [
    {
     "name": "stdout",
     "output_type": "stream",
     "text": [
      "beta: 0.0029154518950437317\n"
     ]
    },
    {
     "data": {
      "text/plain": [
       "LatentDirichletAllocation(max_iter=50, n_components=50, n_jobs=-1,\n",
       "                          topic_word_prior=0.0029154518950437317)"
      ]
     },
     "execution_count": 7,
     "metadata": {},
     "output_type": "execute_result"
    }
   ],
   "source": [
    "K = 50\n",
    "beta = 1/len(feature_names)\n",
    "# beta = 1/K\n",
    "print(\"beta:\", beta)\n",
    "lda = LatentDirichletAllocation(n_components=K, max_iter=50, n_jobs=-1, topic_word_prior=beta)\n",
    "lda.fit(X_bow)\n"
   ]
  },
  {
   "cell_type": "code",
   "execution_count": 8,
   "metadata": {},
   "outputs": [
    {
     "data": {
      "text/plain": [
       "343"
      ]
     },
     "execution_count": 8,
     "metadata": {},
     "output_type": "execute_result"
    }
   ],
   "source": [
    "len(feature_names)\n"
   ]
  },
  {
   "cell_type": "code",
   "execution_count": 9,
   "metadata": {},
   "outputs": [
    {
     "data": {
      "text/plain": [
       "(50, 343)"
      ]
     },
     "execution_count": 9,
     "metadata": {},
     "output_type": "execute_result"
    }
   ],
   "source": [
    "lda.components_.shape       # (K, V)"
   ]
  },
  {
   "cell_type": "code",
   "execution_count": 10,
   "metadata": {},
   "outputs": [],
   "source": [
    "def print_components(components, vocab):\n",
    "    for k, cmp in enumerate(components[:10]):\n",
    "        print(\"component:\", k)\n",
    "        indices = cmp.argsort()[::-1][:5]\n",
    "        for idx in indices:\n",
    "            print(\"\\t\", vocab[idx], cmp[idx])\n"
   ]
  },
  {
   "cell_type": "code",
   "execution_count": 11,
   "metadata": {},
   "outputs": [
    {
     "name": "stdout",
     "output_type": "stream",
     "text": [
      "component: 0\n",
      "\t data 90.58271280560483\n",
      "\t mike 67.02351781433362\n",
      "\t michael 53.839830786258084\n",
      "\t group 42.882898710817564\n",
      "\t just 17.848019783174482\n",
      "component: 1\n",
      "\t don 59.067301540644856\n",
      "\t edu 52.855871856895654\n",
      "\t know 39.71916780106561\n",
      "\t like 39.015342643370595\n",
      "\t opinions 30.60366324730273\n",
      "component: 2\n",
      "\t phone 46.75460234823403\n",
      "\t com 23.38333336325196\n",
      "\t instead 21.152256340876455\n",
      "\t point 20.428235867239355\n",
      "\t number 16.84996981203739\n",
      "component: 3\n",
      "\t com 643.297523958372\n",
      "\t article 126.89494574642613\n",
      "\t writes 126.64508368170604\n",
      "\t organization 105.54413028058326\n",
      "\t lines 102.75139942323652\n",
      "component: 4\n",
      "\t good 163.74453027048477\n",
      "\t 50 75.386295284577\n",
      "\t 00 30.961892079759355\n",
      "\t 25 13.595781360727972\n",
      "\t usually 10.016500366767179\n",
      "component: 5\n",
      "\t people 97.46663282973311\n",
      "\t list 65.57119483295544\n",
      "\t today 56.97635477224958\n",
      "\t government 48.389126352939975\n",
      "\t world 46.62722991403743\n",
      "component: 6\n",
      "\t use 65.41738110126722\n",
      "\t bit 53.93097590426823\n",
      "\t used 49.51694979498767\n",
      "\t memory 46.88401985168998\n",
      "\t possible 46.33833323825515\n",
      "component: 7\n",
      "\t car 99.08416148281806\n",
      "\t year 58.0664317469899\n",
      "\t years 44.049171208067676\n",
      "\t buy 42.86022795417757\n",
      "\t state 39.287292789275256\n",
      "component: 8\n",
      "\t 10 74.29800742892814\n",
      "\t 15 70.34434330286713\n",
      "\t 12 69.903492162168\n",
      "\t 11 63.317241748049646\n",
      "\t 18 59.33558010022764\n",
      "component: 9\n",
      "\t law 53.063223813154025\n",
      "\t death 49.867209577769394\n",
      "\t house 29.939193109403387\n",
      "\t book 23.59187421161803\n",
      "\t god 14.314065789140006\n"
     ]
    }
   ],
   "source": [
    "print_components(\n",
    "    components = lda.components_,\n",
    "    vocab = feature_names,\n",
    ")\n"
   ]
  },
  {
   "cell_type": "code",
   "execution_count": 12,
   "metadata": {},
   "outputs": [
    {
     "data": {
      "text/plain": [
       "\"From: lerxst@wam.umd.edu (where's my thing)\\nSubject: WHAT car is this!?\\nNntp-Posting-Host: rac3.wam.\""
      ]
     },
     "execution_count": 12,
     "metadata": {},
     "output_type": "execute_result"
    }
   ],
   "source": [
    "X[0][:100]"
   ]
  },
  {
   "cell_type": "code",
   "execution_count": 22,
   "metadata": {},
   "outputs": [],
   "source": [
    "from gensim.corpora.dictionary import Dictionary\n",
    "from gensim.parsing.preprocessing import remove_stopwords\n",
    "# from gensim.utils import tokenize\n",
    "from gensim.models import LdaModel"
   ]
  },
  {
   "cell_type": "code",
   "execution_count": 23,
   "metadata": {},
   "outputs": [
    {
     "data": {
      "text/plain": [
       "\"From: lerxst@wam.umd.edu (where's my thing)\\nSubject: WHAT car is this!?\\nNntp-Posting-Host: rac3.wam.umd.edu\\nOrganization: University of Maryland, College Park\\nLines: 15\\n\\n I was wondering if anyone out there could enlighten me on this car I saw\\nthe other day. It was a 2-door sports car, looked to be from the late 60s/\\nearly 70s. It was called a Bricklin. The doors were really small. In addition,\\nthe front bumper was separate from the rest of the body. This is \\nall I know. If anyone can tellme a model name, engine specs, years\\nof production, where this car is made, history, or whatever info you\\nhave on this funky looking car, please e-mail.\\n\\nThanks,\\n- IL\\n   ---- brought to you by your neighborhood Lerxst ----\\n\\n\\n\\n\\n\""
      ]
     },
     "execution_count": 23,
     "metadata": {},
     "output_type": "execute_result"
    }
   ],
   "source": [
    "X[0]"
   ]
  },
  {
   "cell_type": "code",
   "execution_count": 24,
   "metadata": {},
   "outputs": [
    {
     "data": {
      "text/plain": [
       "\"From: lerxst@wam.umd.edu (where's thing) Subject: WHAT car this!? Nntp-Posting-Host: rac3.wam.umd.edu Organization: University Maryland, College Park Lines: 15 I wondering enlighten car I saw day. It 2-door sports car, looked late 60s/ early 70s. It called Bricklin. The doors small. In addition, bumper separate rest body. This I know. If tellme model name, engine specs, years production, car made, history, info funky looking car, e-mail. Thanks, - IL ---- brought neighborhood Lerxst ----\""
      ]
     },
     "execution_count": 24,
     "metadata": {},
     "output_type": "execute_result"
    }
   ],
   "source": [
    "\n",
    "remove_stopwords(X[0])"
   ]
  },
  {
   "cell_type": "code",
   "execution_count": 35,
   "metadata": {},
   "outputs": [],
   "source": [
    "import re\n",
    "token_pattern=r\"(?u)\\b\\w\\w+\\b\"\n",
    "tokenizer = re.compile(token_pattern).findall\n"
   ]
  },
  {
   "cell_type": "code",
   "execution_count": 59,
   "metadata": {},
   "outputs": [],
   "source": [
    "from sklearn.feature_extraction._stop_words import ENGLISH_STOP_WORDS\n",
    "\n",
    "def filter_sw(tokens: list):\n",
    "    return [tkn for tkn in tokens if tkn.lower() not in ENGLISH_STOP_WORDS]\n",
    "\n",
    "def do_tokenize(text: str):\n",
    "    tokens = tokenizer(remove_stopwords(text))\n",
    "    return filter_sw(tokens)\n"
   ]
  },
  {
   "cell_type": "code",
   "execution_count": 60,
   "metadata": {},
   "outputs": [],
   "source": [
    "tokenized = [do_tokenize(doc) for doc in X]\n",
    "dct = Dictionary(tokenized)\n",
    "X_nummed = [dct.doc2bow(docwords) for docwords in tokenized]"
   ]
  },
  {
   "cell_type": "code",
   "execution_count": 62,
   "metadata": {},
   "outputs": [
    {
     "data": {
      "text/plain": [
       "['lerxst', 'wam', 'umd', 'edu', 'thing']"
      ]
     },
     "execution_count": 62,
     "metadata": {},
     "output_type": "execute_result"
    }
   ],
   "source": [
    "tokenized[0][:5]"
   ]
  },
  {
   "cell_type": "code",
   "execution_count": 63,
   "metadata": {},
   "outputs": [
    {
     "data": {
      "text/plain": [
       "[(0, 1), (1, 1), (2, 1), (3, 1), (4, 1), (5, 1), (6, 1)]"
      ]
     },
     "execution_count": 63,
     "metadata": {},
     "output_type": "execute_result"
    }
   ],
   "source": [
    "dct.doc2bow(tokenized[0])[:7]\n"
   ]
  },
  {
   "cell_type": "code",
   "execution_count": 82,
   "metadata": {},
   "outputs": [],
   "source": [
    "lda = LdaModel(X_nummed, num_topics=K, iterations=100, alpha=\"auto\", eta=\"auto\")"
   ]
  },
  {
   "cell_type": "code",
   "execution_count": 83,
   "metadata": {},
   "outputs": [
    {
     "data": {
      "text/plain": [
       "(10, 37253)"
      ]
     },
     "execution_count": 83,
     "metadata": {},
     "output_type": "execute_result"
    }
   ],
   "source": [
    "lda.expElogbeta.shape       # (K, V)"
   ]
  },
  {
   "cell_type": "code",
   "execution_count": 84,
   "metadata": {},
   "outputs": [
    {
     "name": "stdout",
     "output_type": "stream",
     "text": [
      "component: 0\n",
      "\t edu 0.005320049\n",
      "\t com 0.005196726\n",
      "\t Lines 0.00485873\n",
      "\t Subject 0.004308453\n",
      "\t Organization 0.0033927427\n",
      "component: 1\n",
      "\t AX 0.14302205\n",
      "\t MAX 0.010282509\n",
      "\t edu 0.007504135\n",
      "\t Subject 0.004270342\n",
      "\t Organization 0.0040714443\n",
      "component: 2\n",
      "\t com 0.0055519743\n",
      "\t edu 0.004426515\n",
      "\t Subject 0.0042640483\n",
      "\t Organization 0.004191764\n",
      "\t Lines 0.0038057787\n",
      "component: 3\n",
      "\t edu 0.006079315\n",
      "\t Lines 0.0051687676\n",
      "\t Subject 0.0051241443\n",
      "\t Organization 0.005111527\n",
      "\t com 0.0045508477\n",
      "component: 4\n",
      "\t edu 0.0111352\n",
      "\t Lines 0.0058781747\n",
      "\t Organization 0.005253405\n",
      "\t Subject 0.0048217257\n",
      "\t writes 0.0047382675\n",
      "component: 5\n",
      "\t edu 0.0049373577\n",
      "\t Subject 0.003859734\n",
      "\t Lines 0.003629669\n",
      "\t Organization 0.003110671\n",
      "\t people 0.0021959816\n",
      "component: 6\n",
      "\t edu 0.0062674913\n",
      "\t Subject 0.005220407\n",
      "\t Organization 0.005022306\n",
      "\t Lines 0.0047647376\n",
      "\t com 0.0045420593\n",
      "component: 7\n",
      "\t edu 0.005333427\n",
      "\t com 0.004477421\n",
      "\t Organization 0.004084646\n",
      "\t Subject 0.0039406223\n",
      "\t Lines 0.003889292\n",
      "component: 8\n",
      "\t edu 0.012822302\n",
      "\t Subject 0.0066876323\n",
      "\t com 0.006683128\n",
      "\t writes 0.0058981352\n",
      "\t Lines 0.005856713\n",
      "component: 9\n",
      "\t Lines 0.0050838604\n",
      "\t com 0.0050036204\n",
      "\t Organization 0.0047571277\n",
      "\t edu 0.0047018\n",
      "\t Subject 0.0046695615\n"
     ]
    }
   ],
   "source": [
    "print_components(\n",
    "    components = lda.expElogbeta,\n",
    "    vocab = dct,\n",
    ")"
   ]
  },
  {
   "cell_type": "code",
   "execution_count": null,
   "metadata": {},
   "outputs": [],
   "source": []
  },
  {
   "cell_type": "code",
   "execution_count": null,
   "metadata": {},
   "outputs": [],
   "source": []
  }
 ],
 "metadata": {
  "interpreter": {
   "hash": "767d51c1340bd893661ea55ea3124f6de3c7a262a8b4abca0554b478b1e2ff90"
  },
  "kernelspec": {
   "display_name": "Python 3.8.10 64-bit",
   "language": "python",
   "name": "python3"
  },
  "language_info": {
   "codemirror_mode": {
    "name": "ipython",
    "version": 3
   },
   "file_extension": ".py",
   "mimetype": "text/x-python",
   "name": "python",
   "nbconvert_exporter": "python",
   "pygments_lexer": "ipython3",
   "version": "3.8.10"
  },
  "orig_nbformat": 4
 },
 "nbformat": 4,
 "nbformat_minor": 2
}
