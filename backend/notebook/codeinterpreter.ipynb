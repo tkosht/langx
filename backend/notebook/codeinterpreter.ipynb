{
 "cells": [
  {
   "cell_type": "code",
   "execution_count": 1,
   "metadata": {},
   "outputs": [
    {
     "data": {
      "text/plain": [
       "True"
      ]
     },
     "execution_count": 1,
     "metadata": {},
     "output_type": "execute_result"
    }
   ],
   "source": [
    "from dotenv import load_dotenv\n",
    "\n",
    "\n",
    "load_dotenv()"
   ]
  },
  {
   "cell_type": "code",
   "execution_count": 11,
   "metadata": {},
   "outputs": [],
   "source": [
    "from app.codeinterpreter.component.session import CodeInterpreterSession\n",
    "\n",
    "\n",
    "async def main():\n",
    "    # create a session\n",
    "    # session = CodeInterpreterSession(port=7777)\n",
    "    # await session.astart()\n",
    "\n",
    "    # generate a response based on user input\n",
    "    # response = await session.generate_response(\n",
    "    #     \"Plot the bitcoin chart of 2023 YTD\"\n",
    "    #     # \"\"\"三井のリハウスについて以下のフォーマットで回答して\n",
    "    #     # ```\n",
    "    #     # 資本金: {資本金を記入します}\n",
    "    #     # 売上高: {売上高を記入します}\n",
    "    #     # 代表: {会社代表を記入します}\n",
    "    #     # ```\n",
    "    #     # \"\"\"\n",
    "    # session = CodeInterpreterSession(port=7777)\n",
    "    # )\n",
    "    # # terminate the session\n",
    "    # await session.astop()\n",
    "\n",
    "    async with CodeInterpreterSession(port=7777) as session:\n",
    "        response = await session.generate_response(\"タイタニックデータセットをダウンロードして、df 変数に格納して\")\n",
    "        print(\"AI: \", response.content)\n",
    "        for file in response.files:\n",
    "            file.show_image()\n",
    "\n",
    "    # async with CodeInterpreterSession(port=7777) as session:\n",
    "        response = await session.generate_response(\"df 変数の最初の3行を返して\")\n",
    "        print(\"AI: \", response.content)\n",
    "        for file in response.files:\n",
    "            file.show_image()\n",
    "\n"
   ]
  },
  {
   "cell_type": "code",
   "execution_count": 12,
   "metadata": {},
   "outputs": [
    {
     "name": "stdout",
     "output_type": "stream",
     "text": [
      "AI:  タイタニックデータセットをダウンロードし、df変数に格納しました。データセットの最初の数行は以下の通りです：\n",
      "\n",
      "|   | survived | pclass | sex    | age   | sibsp | parch | fare    | embarked | class | who   | adult_male | deck | embark_town | alive | alone |\n",
      "|---|----------|--------|--------|-------|-------|-------|---------|----------|-------|-------|------------|------|-------------|-------|-------|\n",
      "| 0 | 0        | 3      | male   | 22.0  | 1     | 0     | 7.2500  | S        | Third | man   | True       | NaN  | Southampton | no    | False |\n",
      "| 1 | 1        | 1      | female | 38.0  | 1     | 0     | 71.2833 | C        | First | woman | False      | C    | Cherbourg   | yes   | False |\n",
      "| 2 | 1        | 3      | female | 26.0  | 0     | 0     | 7.9250  | S        | Third | woman | False      | NaN  | Southampton | yes   | True  |\n",
      "| 3 | 1        | 1      | female | 35.0  | 1     | 0     | 53.1000 | S        | First | woman | False      | C    | Southampton | yes   | False |\n",
      "| 4 | 0        | 3      | male   | 35.0  | 0     | 0     | 8.0500  | S        | Third | man   | True       | NaN  | Southampton | no    | True  |\n",
      "\n",
      "各列の説明は以下の通りです：\n",
      "\n",
      "- survived: 生存したかどうか（0 = No, 1 = Yes）\n",
      "- pclass: チケットクラス（1 = 1st, 2 = 2nd, 3 = 3rd）\n",
      "- sex: 性別\n",
      "- age: 年齢\n",
      "- sibsp: タイタニックに乗船していた兄弟姉妹/配偶者の数\n",
      "- parch: タイタニックに乗船していた親/子供の数\n",
      "- fare: 旅客運賃\n",
      "- embarked: 乗船した港（C = Cherbourg, Q = Queenstown, S = Southampton）\n",
      "- class: チケットクラス（First, Second, Third）\n",
      "- who: man, woman, child\n",
      "- adult_male: 成人男性かどうか\n",
      "- deck: デッキ\n",
      "- embark_town: 乗船した町\n",
      "- alive: 生存したかどうか（yes, no）\n",
      "- alone: 一人で乗船したかどうか\n",
      "AI:  タイタニックデータセットの最初の3行は以下の通りです：\n",
      "\n",
      "|   | survived | pclass | sex    | age   | sibsp | parch | fare    | embarked | class | who   | adult_male | deck | embark_town | alive | alone |\n",
      "|---|----------|--------|--------|-------|-------|-------|---------|----------|-------|-------|------------|------|-------------|-------|-------|\n",
      "| 0 | 0        | 3      | male   | 22.0  | 1     | 0     | 7.2500  | S        | Third | man   | True       | NaN  | Southampton | no    | False |\n",
      "| 1 | 1        | 1      | female | 38.0  | 1     | 0     | 71.2833 | C        | First | woman | False      | C    | Cherbourg   | yes   | False |\n",
      "| 2 | 1        | 3      | female | 26.0  | 0     | 0     | 7.9250  | S        | Third | woman | False      | NaN  | Southampton | yes   | True  |\n"
     ]
    }
   ],
   "source": [
    "await main()"
   ]
  },
  {
   "cell_type": "code",
   "execution_count": null,
   "metadata": {},
   "outputs": [],
   "source": []
  }
 ],
 "metadata": {
  "kernelspec": {
   "display_name": ".venv",
   "language": "python",
   "name": "python3"
  },
  "language_info": {
   "codemirror_mode": {
    "name": "ipython",
    "version": 3
   },
   "file_extension": ".py",
   "mimetype": "text/x-python",
   "name": "python",
   "nbconvert_exporter": "python",
   "pygments_lexer": "ipython3",
   "version": "3.10.6"
  },
  "orig_nbformat": 4
 },
 "nbformat": 4,
 "nbformat_minor": 2
}
