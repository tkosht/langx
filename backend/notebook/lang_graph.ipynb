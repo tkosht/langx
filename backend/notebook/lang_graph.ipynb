{
 "cells": [
  {
   "cell_type": "markdown",
   "metadata": {},
   "source": [
    "\n",
    "\n",
    "- cf. [Google Colab で LangGraph を試す](https://note.com/npaka/n/n053a3cb78311?sub_rt=share_h)"
   ]
  },
  {
   "cell_type": "code",
   "execution_count": 1,
   "metadata": {},
   "outputs": [],
   "source": [
    "import os\n",
    "from dotenv import load_dotenv\n",
    "\n",
    "load_dotenv()\n",
    "\n",
    "assert \"OPENAI_API_KEY\" in os.environ\n",
    "assert \"TAVILY_API_KEY\" in os.environ"
   ]
  },
  {
   "cell_type": "code",
   "execution_count": 2,
   "metadata": {},
   "outputs": [],
   "source": [
    "from langchain_community.tools.tavily_search import TavilySearchResults\n",
    "\n",
    "tools = [TavilySearchResults(max_results=1)]"
   ]
  },
  {
   "cell_type": "code",
   "execution_count": 3,
   "metadata": {},
   "outputs": [],
   "source": [
    "from langgraph.prebuilt import ToolExecutor\n",
    "\n",
    "tool_executor = ToolExecutor(tools)"
   ]
  },
  {
   "cell_type": "code",
   "execution_count": 4,
   "metadata": {},
   "outputs": [],
   "source": [
    "from langchain_openai import ChatOpenAI\n",
    "\n",
    "model = ChatOpenAI(temperature=0, streaming=True)"
   ]
  },
  {
   "cell_type": "code",
   "execution_count": 5,
   "metadata": {},
   "outputs": [],
   "source": [
    "from langchain_core.utils.function_calling import convert_to_openai_function\n",
    "\n",
    "functions = [convert_to_openai_function(t) for t in tools]\n",
    "model = model.bind_functions(functions)"
   ]
  },
  {
   "cell_type": "code",
   "execution_count": 6,
   "metadata": {},
   "outputs": [],
   "source": [
    "from typing import TypedDict, Annotated, Sequence\n",
    "import operator\n",
    "from langchain_core.messages import BaseMessage\n",
    "from langgraph.graph import StateGraph\n",
    "\n",
    "\n",
    "class AgentState(TypedDict):\n",
    "    messages: Annotated[Sequence[BaseMessage], operator.add]\n",
    "\n",
    "\n",
    "workflow = StateGraph(AgentState)"
   ]
  },
  {
   "cell_type": "code",
   "execution_count": 7,
   "metadata": {},
   "outputs": [],
   "source": [
    "import json\n",
    "from langgraph.prebuilt import ToolInvocation\n",
    "from langchain_core.messages import FunctionMessage\n",
    "\n",
    "\n",
    "# agentノードの次に呼び出されるノードを決定する関数の準備\n",
    "def should_continue(state):\n",
    "    messages = state[\"messages\"]\n",
    "    last_message = messages[-1]\n",
    "\n",
    "    # function_call がない場合は終了\n",
    "    if \"function_call\" not in last_message.additional_kwargs:\n",
    "        return \"end\"\n",
    "    # そうでない場合は続行\n",
    "    else:\n",
    "        return \"continue\"\n",
    "\n",
    "\n",
    "# agentノードの処理を定義する関数の準備\n",
    "def call_model(state):\n",
    "    messages = state[\"messages\"]\n",
    "\n",
    "    # モデルの呼び出し\n",
    "    response = model.invoke(messages)\n",
    "\n",
    "    # メッセージリストに追加するメッセージを返す\n",
    "    return {\"messages\": [response]}\n",
    "\n",
    "\n",
    "# actionノードの処理を定義する関数の準備\n",
    "def call_tool(state):\n",
    "    messages = state[\"messages\"]\n",
    "    last_message = messages[-1]\n",
    "\n",
    "    # ツール呼び出しのアクションを生成\n",
    "    action = ToolInvocation(\n",
    "        tool=last_message.additional_kwargs[\"function_call\"][\"name\"],\n",
    "        tool_input=json.loads(\n",
    "            last_message.additional_kwargs[\"function_call\"][\"arguments\"]\n",
    "        ),\n",
    "    )\n",
    "    print(f\"[DEBUG] {action=}\")\n",
    "    # アクション実行\n",
    "    response = tool_executor.invoke(action)\n",
    "\n",
    "    # 関数メッセージのインスタンスを生成\n",
    "    function_message = FunctionMessage(content=str(response), name=action.tool)\n",
    "\n",
    "    # メッセージリストに追加するメッセージを返す\n",
    "    return {\"messages\": [function_message]}"
   ]
  },
  {
   "cell_type": "code",
   "execution_count": 8,
   "metadata": {},
   "outputs": [],
   "source": [
    "from langgraph.graph import END\n",
    "\n",
    "# グラフに2つのノードを追加\n",
    "workflow.add_node(\"agent\", call_model)\n",
    "workflow.add_node(\"action\", call_tool)\n",
    "\n",
    "# agentをエントリポイントとして指定\n",
    "workflow.set_entry_point(\"agent\")\n",
    "\n",
    "# agentノードに条件付きエッジを追加\n",
    "workflow.add_conditional_edges(\n",
    "    \"agent\",  # 開始ノード\n",
    "    should_continue,  # 呼び出されるノードを決定する関数\n",
    "    {\"continue\": \"action\", \"end\": END},  # actionノードに遷移  # 終了\n",
    ")\n",
    "\n",
    "# actionノードからagentノードへのノーマルエッジを追加\n",
    "workflow.add_edge(\"action\", \"agent\")\n",
    "\n",
    "# コンパイル\n",
    "app = workflow.compile()"
   ]
  },
  {
   "cell_type": "code",
   "execution_count": 16,
   "metadata": {},
   "outputs": [],
   "source": [
    "from langchain_core.messages.ai import AIMessage\n",
    "from langchain_core.messages.function import FunctionMessage\n",
    "from langchain_core.messages.human import HumanMessage\n",
    "\n",
    "\n",
    "def print_response(response: dict):\n",
    "    for itm in response[\"messages\"]:\n",
    "        if isinstance(itm, HumanMessage):\n",
    "            print(\"Human:\", itm.content)\n",
    "        elif isinstance(itm, FunctionMessage):\n",
    "            print(\"Function:\", itm.content)\n",
    "        elif isinstance(itm, AIMessage):\n",
    "            print(\"AI:\", itm.content)\n",
    "    return"
   ]
  },
  {
   "cell_type": "code",
   "execution_count": 17,
   "metadata": {},
   "outputs": [
    {
     "name": "stdout",
     "output_type": "stream",
     "text": [
      "Human: 日本の首都は？\n",
      "AI: 東京です。\n"
     ]
    }
   ],
   "source": [
    "from langchain_core.messages import HumanMessage\n",
    "\n",
    "# 質問応答\n",
    "inputs = {\"messages\": [HumanMessage(content=\"日本の首都は？\")]}\n",
    "response = app.invoke(inputs)\n",
    "print_response(response)"
   ]
  },
  {
   "cell_type": "code",
   "execution_count": 18,
   "metadata": {},
   "outputs": [
    {
     "name": "stdout",
     "output_type": "stream",
     "text": [
      "[DEBUG] action=ToolInvocation(tool='tavily_search_results_json', tool_input={'query': '日本で一番高い山の名前と標高'})\n",
      "Human: 日本で一番高い山の名前と標高は？\n",
      "AI: \n",
      "Function: [{'url': 'https://tabi-mag.jp/mountain-top10/', 'content': 'ランキング 2021.05.14 2023.04.20プレスマンユニオン編集部 日本の山 標高ベスト10  富士山 剣ヶ峰 日本の最高峰、富士山の最高地点が標高3776mの剣ヶ峰。かつてはレーダードームがあり、新幹線の車窓などからも視認できましたが、現在は富士山特別地域気象観測所が設置されています。 2位 北岳 3193m\\u3000（南アルプス）  日本のマッターホルンともいわれる北アルプスのシンボル的な存在、槍ヶ岳（やりがたけ）。標高3180mで、日本第5位の高峰。長野県松本市、大町市、岐阜県高山市の境にそびえ、燕岳（つばくろだけ）と結ぶコースが、北アルプス初心者にも人気の表銀座で  日本の山標高ベスト10は、独立峰の富士山を1位に、2位〜10位には南アルプスが、日本第二の高峰・北岳など4座、北アルプスが3位の奥穂高岳など5座がランクイン。白峰三山、悪沢岳（荒川東岳）・赤石岳、槍穂高連峰と、いずれも日本アルプスの人気の日本の山 標高ベスト10 シェア ツイート 日本の山標高ベスト10は、独立峰の富士山を1位に、2位〜10位には南アルプスが、日本第二の高峰・北岳など4座、北アルプスが3位の奥穂高岳など5座がランクイン。 白峰三山、悪沢岳（荒川東岳）・赤石岳、槍穂高連峰と、いずれも日本アルプスの人気の縦走路で氷河地形がアルペンムードを高めています。 1位 富士山 3776m 名称 ：富士山・剣ヶ峰 山域 ：富士山（独立峰） 場所 ：静岡県富士宮市 三角点名など ：測定点／二等三角点は3775.63m 富士山 剣ヶ峰 日本の最高峰、富士山の最高地点が標高3776mの剣ヶ峰。 かつてはレーダードームがあり、新幹線の車窓などからも視認できましたが、現在は富士山特別地域気象観測所が設置されています。'}]\n",
      "AI: 日本で一番高い山は富士山です。富士山の最高地点の標高は3776mで、その地点は剣ヶ峰と呼ばれています。富士山は静岡県富士宮市に位置しています。\n"
     ]
    }
   ],
   "source": [
    "from langchain_core.messages import HumanMessage\n",
    "\n",
    "# 質問応答\n",
    "inputs = {\"messages\": [HumanMessage(content=\"日本で一番高い山の名前と標高は？\")]}\n",
    "response = app.invoke(inputs)\n",
    "print_response(response)"
   ]
  },
  {
   "cell_type": "code",
   "execution_count": 20,
   "metadata": {},
   "outputs": [
    {
     "name": "stdout",
     "output_type": "stream",
     "text": [
      "Output from node 'agent': \n",
      "\n",
      "---\n",
      "\n",
      "[DEBUG] action=ToolInvocation(tool='tavily_search_results_json', tool_input={'query': '日本で一番高い山の名前と標高'})\n",
      "Output from node 'action': [{'url': 'https://tabi-mag.jp/mountain-top10/', 'content': 'ランキング 2021.05.14 2023.04.20プレスマンユニオン編集部 日本の山 標高ベスト10  富士山 剣ヶ峰 日本の最高峰、富士山の最高地点が標高3776mの剣ヶ峰。かつてはレーダードームがあり、新幹線の車窓などからも視認できましたが、現在は富士山特別地域気象観測所が設置されています。 2位 北岳 3193m\\u3000（南アルプス）  日本のマッターホルンともいわれる北アルプスのシンボル的な存在、槍ヶ岳（やりがたけ）。標高3180mで、日本第5位の高峰。長野県松本市、大町市、岐阜県高山市の境にそびえ、燕岳（つばくろだけ）と結ぶコースが、北アルプス初心者にも人気の表銀座で  日本の山標高ベスト10は、独立峰の富士山を1位に、2位〜10位には南アルプスが、日本第二の高峰・北岳など4座、北アルプスが3位の奥穂高岳など5座がランクイン。白峰三山、悪沢岳（荒川東岳）・赤石岳、槍穂高連峰と、いずれも日本アルプスの人気の日本の山標高ベスト10は、独立峰の富士山を1位に、2位〜10位には南アルプスが、日本第二の高峰・北岳など4座、北アルプスが3位の奥穂高岳など5座がランクイン。白峰三山、悪沢岳（荒川東岳）・赤石岳、槍穂高連峰と、いずれも日本アルプスの人気の縦走路で氷河地形がアルペンムードを高め ...'}]\n",
      "\n",
      "---\n",
      "\n",
      "Output from node 'agent': 日本で一番高い山は富士山です。その最高地点は剣ヶ峰で、標高は3776メートルです。\n",
      "\t富士山は日本のシンボルとして知られており、世界遺産にも登録されています。古くから信仰の対象とされ、多くの登山者や観光客が訪れます。\n",
      "\t富士山の歴史は古く、約10万年前に形成されたと考えられています。火山活動によって形成されたこの山は、その美しい姿勢と独特の形状で多くの人々を魅了してきました。\n",
      "\t富士山は登山の聖地としても知られており、毎年多くの登山者が挑戦します。夏季の登山シーズンには、多くの登山者が山頂を目指して登山道を辿ります。また、富士山は日本の文化や芸術にも多くの影響を与えており、多くの文学作品や絵画にも描かれています。\n",
      "\t富士山はまた、自然環境や生態系の保護にも取り組んでいます。周辺の自然公園や保護区域は、多くの野生動物や植物の生息地となっています。\n",
      "\t富士山は日本の誇りであり、多くの人々に愛されています。その美しい姿と歴史的な価値は、日本の文化や自然の一部として大切にされています。\n",
      "\n",
      "---\n",
      "\n",
      "Output from node '__end__': 日本で一番高い山の名前と標高を調べた上で、その山の歴史について説明してください\n",
      "\n",
      "[{'url': 'https://tabi-mag.jp/mountain-top10/', 'content': 'ランキング 2021.05.14 2023.04.20プレスマンユニオン編集部 日本の山 標高ベスト10  富士山 剣ヶ峰 日本の最高峰、富士山の最高地点が標高3776mの剣ヶ峰。かつてはレーダードームがあり、新幹線の車窓などからも視認できましたが、現在は富士山特別地域気象観測所が設置されています。 2位 北岳 3193m\\u3000（南アルプス）  日本のマッターホルンともいわれる北アルプスのシンボル的な存在、槍ヶ岳（やりがたけ）。標高3180mで、日本第5位の高峰。長野県松本市、大町市、岐阜県高山市の境にそびえ、燕岳（つばくろだけ）と結ぶコースが、北アルプス初心者にも人気の表銀座で  日本の山標高ベスト10は、独立峰の富士山を1位に、2位〜10位には南アルプスが、日本第二の高峰・北岳など4座、北アルプスが3位の奥穂高岳など5座がランクイン。白峰三山、悪沢岳（荒川東岳）・赤石岳、槍穂高連峰と、いずれも日本アルプスの人気の日本の山標高ベスト10は、独立峰の富士山を1位に、2位〜10位には南アルプスが、日本第二の高峰・北岳など4座、北アルプスが3位の奥穂高岳など5座がランクイン。白峰三山、悪沢岳（荒川東岳）・赤石岳、槍穂高連峰と、いずれも日本アルプスの人気の縦走路で氷河地形がアルペンムードを高め ...'}]\n",
      "日本で一番高い山は富士山です。その最高地点は剣ヶ峰で、標高は3776メートルです。\n",
      "\t富士山は日本のシンボルとして知られており、世界遺産にも登録されています。古くから信仰の対象とされ、多くの登山者や観光客が訪れます。\n",
      "\t富士山の歴史は古く、約10万年前に形成されたと考えられています。火山活動によって形成されたこの山は、その美しい姿勢と独特の形状で多くの人々を魅了してきました。\n",
      "\t富士山は登山の聖地としても知られており、毎年多くの登山者が挑戦します。夏季の登山シーズンには、多くの登山者が山頂を目指して登山道を辿ります。また、富士山は日本の文化や芸術にも多くの影響を与えており、多くの文学作品や絵画にも描かれています。\n",
      "\t富士山はまた、自然環境や生態系の保護にも取り組んでいます。周辺の自然公園や保護区域は、多くの野生動物や植物の生息地となっています。\n",
      "\t富士山は日本の誇りであり、多くの人々に愛されています。その美しい姿と歴史的な価値は、日本の文化や自然の一部として大切にされています。\n",
      "\n",
      "---\n",
      "\n"
     ]
    }
   ],
   "source": [
    "# ストリーミング （処理ステップ毎）\n",
    "inputs = {\"messages\": [HumanMessage(content=\"日本で一番高い山の名前と標高を調べた上で、その山の歴史について説明してください\")]}\n",
    "for output in app.stream(inputs):\n",
    "    for key, tkn in output.items():\n",
    "        print(f\"Output from node '{key}': \", end=\"\")\n",
    "        for msg in tkn[\"messages\"]:\n",
    "            print(msg.content.replace(\"\\n\\n\", \"\\n\\t\"))\n",
    "    print(\"\\n---\\n\")"
   ]
  },
  {
   "cell_type": "code",
   "execution_count": 33,
   "metadata": {},
   "outputs": [
    {
     "name": "stdout",
     "output_type": "stream",
     "text": [
      "content='日本で一番高い山の名前と標高を調べた上で、その山の歴史について説明してください'\n",
      "content='' additional_kwargs={'function_call': {'arguments': '{\\n  \"query\": \"日本で一番高い山の名前と標高\"\\n}', 'name': 'tavily_search_results_json'}}\n",
      "content=\"[{'url': 'https://tabi-mag.jp/mountain-top10/', 'content': 'ランキング 2021.05.14 2023.04.20プレスマンユニオン編集部 日本の山 標高ベスト10  富士山 剣ヶ峰 日本の最高峰、富士山の最高地点が標高3776mの剣ヶ峰。かつてはレーダードームがあり、新幹線の車窓などからも視認できましたが、現在は富士山特別地域気象観測所が設置されています。 2位 北岳 3193m\\\\u3000（南アルプス）  日本のマッターホルンともいわれる北アルプスのシンボル的な存在、槍ヶ岳（やりがたけ）。標高3180mで、日本第5位の高峰。長野県松本市、大町市、岐阜県高山市の境にそびえ、燕岳（つばくろだけ）と結ぶコースが、北アルプス初心者にも人気の表銀座で  日本の山標高ベスト10は、独立峰の富士山を1位に、2位〜10位には南アルプスが、日本第二の高峰・北岳など4座、北アルプスが3位の奥穂高岳など5座がランクイン。白峰三山、悪沢岳（荒川東岳）・赤石岳、槍穂高連峰と、いずれも日本アルプスの人気の日本の山標高ベスト10は、独立峰の富士山を1位に、2位〜10位には南アルプスが、日本第二の高峰・北岳など4座、北アルプスが3位の奥穂高岳など5座がランクイン。白峰三山、悪沢岳（荒川東岳）・赤石岳、槍穂高連峰と、いずれも日本アルプスの人気の縦走路で氷河地形がアルペンムードを高め ...'}]\" name='tavily_search_results_json'\n",
      "content='日本で一番高い山は富士山です。その最高地点は剣ヶ峰で、標高は3776メートルです。\\n\\n富士山は日本のシンボルとして知られており、世界遺産にも登録されています。古くから信仰の対象とされ、多くの登山者や観光客が訪れます。\\n\\n富士山の歴史は古く、約10万年前に形成されたと考えられています。火山活動によって形成されたこの山は、その美しい姿勢と独特の形状で多くの人々を魅了してきました。\\n\\n富士山は登山の聖地としても知られており、毎年多くの登山者が挑戦します。夏季の登山シーズンには、多くの登山者が山頂を目指して登山道を辿ります。また、富士山は日本の文化や芸術にも多くの影響を与えており、多くの文学作品や絵画にも描かれています。\\n\\n富士山はまた、自然環境や生態系の保護にも取り組んでいます。周辺の自然公園や保護区域は、多くの野生動物や植物の生息地となっています。\\n\\n富士山は日本の誇りであり、多くの人々に愛されています。その美しい姿と歴史的な価値は、日本の文化や自然の一部として大切にされています。'\n"
     ]
    }
   ],
   "source": [
    "for msg in output[\"__end__\"][\"messages\"]:\n",
    "    # if hasattr(msg, \"name\"):\n",
    "    #     print(msg.name)\n",
    "    print(msg)"
   ]
  },
  {
   "cell_type": "code",
   "execution_count": null,
   "metadata": {},
   "outputs": [],
   "source": []
  },
  {
   "cell_type": "code",
   "execution_count": null,
   "metadata": {},
   "outputs": [],
   "source": []
  },
  {
   "cell_type": "code",
   "execution_count": null,
   "metadata": {},
   "outputs": [],
   "source": []
  },
  {
   "cell_type": "code",
   "execution_count": null,
   "metadata": {},
   "outputs": [],
   "source": []
  }
 ],
 "metadata": {
  "kernelspec": {
   "display_name": ".venv",
   "language": "python",
   "name": "python3"
  },
  "language_info": {
   "codemirror_mode": {
    "name": "ipython",
    "version": 3
   },
   "file_extension": ".py",
   "mimetype": "text/x-python",
   "name": "python",
   "nbconvert_exporter": "python",
   "pygments_lexer": "ipython3",
   "version": "3.10.12"
  }
 },
 "nbformat": 4,
 "nbformat_minor": 2
}
