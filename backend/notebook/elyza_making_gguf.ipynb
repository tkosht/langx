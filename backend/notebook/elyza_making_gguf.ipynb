{
 "cells": [
  {
   "cell_type": "code",
   "execution_count": null,
   "metadata": {},
   "outputs": [],
   "source": [
    "%%bash\n",
    "rm -rf elyza"
   ]
  },
  {
   "cell_type": "markdown",
   "metadata": {},
   "source": [
    "# NOTE\n",
    "\n",
    "- 作成した gguf ファイルをロードするとエラーになる\n",
    "- CodeLlama の方はうまくいく\n"
   ]
  },
  {
   "cell_type": "code",
   "execution_count": null,
   "metadata": {},
   "outputs": [],
   "source": [
    "from huggingface_hub import snapshot_download\n",
    "\n",
    "\n",
    "model_id = \"elyza/ELYZA-japanese-Llama-2-7b-fast-instruct\"\n",
    "snapshot_download(\n",
    "    repo_id=model_id,\n",
    "    local_dir=\"elyza\",\n",
    "    local_dir_use_symlinks=False,\n",
    "    revision=\"main\",\n",
    ")"
   ]
  },
  {
   "cell_type": "code",
   "execution_count": null,
   "metadata": {},
   "outputs": [],
   "source": [
    "%%bash\n",
    "ls -lash elyza/\n"
   ]
  },
  {
   "cell_type": "code",
   "execution_count": null,
   "metadata": {},
   "outputs": [],
   "source": [
    "%%bash\n",
    "cd elyza\n",
    "wget https://huggingface.co/elyza/ELYZA-japanese-Llama-2-7b/resolve/main/tokenizer.model\n"
   ]
  },
  {
   "cell_type": "code",
   "execution_count": null,
   "metadata": {},
   "outputs": [],
   "source": [
    "%%bash\n",
    "cd elyza\n",
    "cat << __JSON__  > added_tokens.json\n",
    "{\n",
    "    \"<SU\": 32000,\n",
    "    \"<SUF\": 32001,\n",
    "    \"<PRE\": 32002,\n",
    "    \"<M\": 32003,\n",
    "    \"<MID\": 32004,\n",
    "    \"<E\": 32005,\n",
    "    \"<EOT\": 32006,\n",
    "    \"<PRE>\": 32007,\n",
    "    \"<SUF>\": 32008,\n",
    "    \"<MID>\": 32009,\n",
    "    \"<EOT>\": 32010,\n",
    "    \"<EOT><EOT>\": 32011,\n",
    "    \"<EOT><EOT><EOT>\": 32012,\n",
    "    \"<EOT><EOT><EOT><EOT>\": 32013,\n",
    "    \"<EOT><EOT><EOT><EOT><EOT>\": 32014,\n",
    "    \"<EOT><EOT><EOT><EOT><EOT><EOT>\": 32015\n",
    "}\n",
    "__JSON__\n"
   ]
  },
  {
   "cell_type": "code",
   "execution_count": null,
   "metadata": {},
   "outputs": [],
   "source": [
    "%%bash\n",
    "ls -lashtr elyza/\n",
    "\n"
   ]
  },
  {
   "cell_type": "code",
   "execution_count": null,
   "metadata": {},
   "outputs": [],
   "source": [
    "%%bash\n",
    "rm -rf llama.cpp/\n",
    "git clone https://github.com/ggerganov/llama.cpp.git"
   ]
  },
  {
   "cell_type": "code",
   "execution_count": null,
   "metadata": {},
   "outputs": [],
   "source": [
    "%%bash\n",
    "ls -ld llama.cpp"
   ]
  },
  {
   "cell_type": "code",
   "execution_count": null,
   "metadata": {},
   "outputs": [],
   "source": [
    "%%bash\n",
    "# python llama.cpp/convert.py -h\n",
    "python llama.cpp/convert-hf-to-gguf.py -h"
   ]
  },
  {
   "cell_type": "code",
   "execution_count": null,
   "metadata": {},
   "outputs": [],
   "source": [
    "%%bash\n",
    "rm -rf ELYZA-japanese-Llama-2-7b-fast-instruct-q8_0.gguf\n",
    "python llama.cpp/convert.py elyza \\\n",
    "    --outfile ELYZA-japanese-Llama-2-7b-fast-instruct-q8_0.gguf \\\n",
    "    --outtype q8_0"
   ]
  },
  {
   "cell_type": "code",
   "execution_count": null,
   "metadata": {},
   "outputs": [],
   "source": [
    "%%bash\n",
    "ls -l *.gguf"
   ]
  },
  {
   "cell_type": "code",
   "execution_count": null,
   "metadata": {},
   "outputs": [],
   "source": []
  }
 ],
 "metadata": {
  "kernelspec": {
   "display_name": ".venv",
   "language": "python",
   "name": "python3"
  },
  "language_info": {
   "codemirror_mode": {
    "name": "ipython",
    "version": 3
   },
   "file_extension": ".py",
   "mimetype": "text/x-python",
   "name": "python",
   "nbconvert_exporter": "python",
   "pygments_lexer": "ipython3",
   "version": "3.10.12"
  }
 },
 "nbformat": 4,
 "nbformat_minor": 2
}
